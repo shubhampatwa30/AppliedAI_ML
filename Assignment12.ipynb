{
 "cells": [
  {
   "cell_type": "code",
   "execution_count": 1,
   "metadata": {
    "colab": {
     "base_uri": "https://localhost:8080/",
     "height": 34
    },
    "colab_type": "code",
    "id": "zDgCYcS54Rhd",
    "outputId": "f1b75da9-a730-46be-e1d5-3d9f89f97e71"
   },
   "outputs": [
    {
     "name": "stderr",
     "output_type": "stream",
     "text": [
      "Using TensorFlow backend.\n"
     ]
    }
   ],
   "source": [
    "# if you keras is not using tensorflow as backend set \"KERAS_BACKEND=tensorflow\" use this command\n",
    "from keras.utils import np_utils \n",
    "from keras.datasets import mnist \n",
    "import seaborn as sns\n",
    "from keras.initializers import RandomNormal"
   ]
  },
  {
   "cell_type": "code",
   "execution_count": 0,
   "metadata": {
    "colab": {},
    "colab_type": "code",
    "id": "SNk-AUqe4VCA"
   },
   "outputs": [],
   "source": [
    "%matplotlib notebook\n",
    "import matplotlib.pyplot as plt\n",
    "import numpy as np\n",
    "import time\n",
    "# https://gist.github.com/greydanus/f6eee59eaf1d90fcb3b534a25362cea4\n",
    "# https://stackoverflow.com/a/14434334\n",
    "# this function is used to update the plots for each epoch and error\n",
    "def plt_dynamic(x, vy, ty, ax, colors=['b']):\n",
    "    ax.plot(x, vy, 'b', label=\"Validation Loss\")\n",
    "    ax.plot(x, ty, 'r', label=\"Train Loss\")\n",
    "    plt.legend()\n",
    "    plt.grid()\n",
    "    fig.canvas.draw()"
   ]
  },
  {
   "cell_type": "code",
   "execution_count": 0,
   "metadata": {
    "colab": {},
    "colab_type": "code",
    "id": "bJFTGxIw4XiS"
   },
   "outputs": [],
   "source": [
    "# the data, shuffled and split between train and test sets \n",
    "(X_train, y_train), (X_test, y_test) = mnist.load_data()"
   ]
  },
  {
   "cell_type": "code",
   "execution_count": 4,
   "metadata": {
    "colab": {
     "base_uri": "https://localhost:8080/",
     "height": 50
    },
    "colab_type": "code",
    "id": "JBK-9PGK4ZrF",
    "outputId": "73b22b87-73ad-4f67-8cc5-e2546f1a8875"
   },
   "outputs": [
    {
     "name": "stdout",
     "output_type": "stream",
     "text": [
      "Number of training examples : 60000 and each image is of shape (28, 28)\n",
      "Number of testing examples : 10000 and each image is of shape (28, 28)\n"
     ]
    }
   ],
   "source": [
    "print(\"Number of training examples :\", X_train.shape[0], \"and each image is of shape (%d, %d)\"%(X_train.shape[1], X_train.shape[2]))\n",
    "print(\"Number of testing examples :\", X_test.shape[0], \"and each image is of shape (%d, %d)\"%(X_test.shape[1], X_test.shape[2]))"
   ]
  },
  {
   "cell_type": "code",
   "execution_count": 0,
   "metadata": {
    "colab": {},
    "colab_type": "code",
    "id": "eFFk_Uym4aOv"
   },
   "outputs": [],
   "source": [
    "# if you observe the input shape its 2 dimensional vector\n",
    "# for each image we have a (28*28) vector\n",
    "# we will convert the (28*28) vector into single dimensional vector of 1 * 784 \n",
    "\n",
    "X_train = X_train.reshape(X_train.shape[0], X_train.shape[1]*X_train.shape[2]) \n",
    "X_test = X_test.reshape(X_test.shape[0], X_test.shape[1]*X_test.shape[2]) "
   ]
  },
  {
   "cell_type": "code",
   "execution_count": 6,
   "metadata": {
    "colab": {
     "base_uri": "https://localhost:8080/",
     "height": 34
    },
    "colab_type": "code",
    "id": "r_7eB6Hl4cNE",
    "outputId": "5db6f24c-0b6d-49d9-f9db-002dddd586cc"
   },
   "outputs": [
    {
     "data": {
      "text/plain": [
       "(60000, 784)"
      ]
     },
     "execution_count": 6,
     "metadata": {
      "tags": []
     },
     "output_type": "execute_result"
    }
   ],
   "source": [
    "X_train.shape"
   ]
  },
  {
   "cell_type": "code",
   "execution_count": 7,
   "metadata": {
    "colab": {
     "base_uri": "https://localhost:8080/",
     "height": 50
    },
    "colab_type": "code",
    "id": "YR-LiBgZ4e44",
    "outputId": "82bb31ff-df54-45ab-dc0c-c061449e0f17"
   },
   "outputs": [
    {
     "name": "stdout",
     "output_type": "stream",
     "text": [
      "Number of training examples : 60000 and each image is of shape (784)\n",
      "Number of training examples : 10000 and each image is of shape (784)\n"
     ]
    }
   ],
   "source": [
    "# after converting the input images from 3d to 2d vectors\n",
    "\n",
    "print(\"Number of training examples :\", X_train.shape[0], \"and each image is of shape (%d)\"%(X_train.shape[1]))\n",
    "print(\"Number of training examples :\", X_test.shape[0], \"and each image is of shape (%d)\"%(X_test.shape[1]))"
   ]
  },
  {
   "cell_type": "code",
   "execution_count": 8,
   "metadata": {
    "colab": {
     "base_uri": "https://localhost:8080/",
     "height": 756
    },
    "colab_type": "code",
    "id": "tE33au9A4gip",
    "outputId": "d0e2409c-ef9a-423c-d29d-386dda19e8e6"
   },
   "outputs": [
    {
     "name": "stdout",
     "output_type": "stream",
     "text": [
      "[  0   0   0   0   0   0   0   0   0   0   0   0   0   0   0   0   0   0\n",
      "   0   0   0   0   0   0   0   0   0   0   0   0   0   0   0   0   0   0\n",
      "   0   0   0   0   0   0   0   0   0   0   0   0   0   0   0   0   0   0\n",
      "   0   0   0   0   0   0   0   0   0   0   0   0   0   0   0   0   0   0\n",
      "   0   0   0   0   0   0   0   0   0   0   0   0   0   0   0   0   0   0\n",
      "   0   0   0   0   0   0   0   0   0   0   0   0   0   0   0   0   0   0\n",
      "   0   0   0   0   0   0   0   0   0   0   0   0   0   0   0   0   0   0\n",
      "   0   0   0   0   0   0   0   0   0   0   0   0   0   0   0   0   0   0\n",
      "   0   0   0   0   0   0   0   0   3  18  18  18 126 136 175  26 166 255\n",
      " 247 127   0   0   0   0   0   0   0   0   0   0   0   0  30  36  94 154\n",
      " 170 253 253 253 253 253 225 172 253 242 195  64   0   0   0   0   0   0\n",
      "   0   0   0   0   0  49 238 253 253 253 253 253 253 253 253 251  93  82\n",
      "  82  56  39   0   0   0   0   0   0   0   0   0   0   0   0  18 219 253\n",
      " 253 253 253 253 198 182 247 241   0   0   0   0   0   0   0   0   0   0\n",
      "   0   0   0   0   0   0   0   0  80 156 107 253 253 205  11   0  43 154\n",
      "   0   0   0   0   0   0   0   0   0   0   0   0   0   0   0   0   0   0\n",
      "   0  14   1 154 253  90   0   0   0   0   0   0   0   0   0   0   0   0\n",
      "   0   0   0   0   0   0   0   0   0   0   0   0   0 139 253 190   2   0\n",
      "   0   0   0   0   0   0   0   0   0   0   0   0   0   0   0   0   0   0\n",
      "   0   0   0   0   0  11 190 253  70   0   0   0   0   0   0   0   0   0\n",
      "   0   0   0   0   0   0   0   0   0   0   0   0   0   0   0   0  35 241\n",
      " 225 160 108   1   0   0   0   0   0   0   0   0   0   0   0   0   0   0\n",
      "   0   0   0   0   0   0   0   0   0  81 240 253 253 119  25   0   0   0\n",
      "   0   0   0   0   0   0   0   0   0   0   0   0   0   0   0   0   0   0\n",
      "   0   0  45 186 253 253 150  27   0   0   0   0   0   0   0   0   0   0\n",
      "   0   0   0   0   0   0   0   0   0   0   0   0   0  16  93 252 253 187\n",
      "   0   0   0   0   0   0   0   0   0   0   0   0   0   0   0   0   0   0\n",
      "   0   0   0   0   0   0   0 249 253 249  64   0   0   0   0   0   0   0\n",
      "   0   0   0   0   0   0   0   0   0   0   0   0   0   0  46 130 183 253\n",
      " 253 207   2   0   0   0   0   0   0   0   0   0   0   0   0   0   0   0\n",
      "   0   0   0   0  39 148 229 253 253 253 250 182   0   0   0   0   0   0\n",
      "   0   0   0   0   0   0   0   0   0   0   0   0  24 114 221 253 253 253\n",
      " 253 201  78   0   0   0   0   0   0   0   0   0   0   0   0   0   0   0\n",
      "   0   0  23  66 213 253 253 253 253 198  81   2   0   0   0   0   0   0\n",
      "   0   0   0   0   0   0   0   0   0   0  18 171 219 253 253 253 253 195\n",
      "  80   9   0   0   0   0   0   0   0   0   0   0   0   0   0   0   0   0\n",
      "  55 172 226 253 253 253 253 244 133  11   0   0   0   0   0   0   0   0\n",
      "   0   0   0   0   0   0   0   0   0   0 136 253 253 253 212 135 132  16\n",
      "   0   0   0   0   0   0   0   0   0   0   0   0   0   0   0   0   0   0\n",
      "   0   0   0   0   0   0   0   0   0   0   0   0   0   0   0   0   0   0\n",
      "   0   0   0   0   0   0   0   0   0   0   0   0   0   0   0   0   0   0\n",
      "   0   0   0   0   0   0   0   0   0   0   0   0   0   0   0   0   0   0\n",
      "   0   0   0   0   0   0   0   0   0   0   0   0   0   0   0   0   0   0\n",
      "   0   0   0   0   0   0   0   0   0   0]\n"
     ]
    }
   ],
   "source": [
    "# An example data point\n",
    "print(X_train[0])"
   ]
  },
  {
   "cell_type": "code",
   "execution_count": 0,
   "metadata": {
    "colab": {},
    "colab_type": "code",
    "id": "A5-x9rxE4ioI"
   },
   "outputs": [],
   "source": [
    "# if we observe the above matrix each cell is having a value between 0-255\n",
    "# before we move to apply machine learning algorithms lets try to normalize the data\n",
    "# X => (X - Xmin)/(Xmax-Xmin) = X/255\n",
    "\n",
    "X_train = X_train/255\n",
    "X_test = X_test/255"
   ]
  },
  {
   "cell_type": "code",
   "execution_count": 10,
   "metadata": {
    "colab": {
     "base_uri": "https://localhost:8080/",
     "height": 2218
    },
    "colab_type": "code",
    "id": "_qVrKDLe4kUO",
    "outputId": "6ce744fe-f4de-489c-cdf6-b76b02ecaf5f"
   },
   "outputs": [
    {
     "name": "stdout",
     "output_type": "stream",
     "text": [
      "[0.         0.         0.         0.         0.         0.\n",
      " 0.         0.         0.         0.         0.         0.\n",
      " 0.         0.         0.         0.         0.         0.\n",
      " 0.         0.         0.         0.         0.         0.\n",
      " 0.         0.         0.         0.         0.         0.\n",
      " 0.         0.         0.         0.         0.         0.\n",
      " 0.         0.         0.         0.         0.         0.\n",
      " 0.         0.         0.         0.         0.         0.\n",
      " 0.         0.         0.         0.         0.         0.\n",
      " 0.         0.         0.         0.         0.         0.\n",
      " 0.         0.         0.         0.         0.         0.\n",
      " 0.         0.         0.         0.         0.         0.\n",
      " 0.         0.         0.         0.         0.         0.\n",
      " 0.         0.         0.         0.         0.         0.\n",
      " 0.         0.         0.         0.         0.         0.\n",
      " 0.         0.         0.         0.         0.         0.\n",
      " 0.         0.         0.         0.         0.         0.\n",
      " 0.         0.         0.         0.         0.         0.\n",
      " 0.         0.         0.         0.         0.         0.\n",
      " 0.         0.         0.         0.         0.         0.\n",
      " 0.         0.         0.         0.         0.         0.\n",
      " 0.         0.         0.         0.         0.         0.\n",
      " 0.         0.         0.         0.         0.         0.\n",
      " 0.         0.         0.         0.         0.         0.\n",
      " 0.         0.         0.         0.         0.         0.\n",
      " 0.         0.         0.01176471 0.07058824 0.07058824 0.07058824\n",
      " 0.49411765 0.53333333 0.68627451 0.10196078 0.65098039 1.\n",
      " 0.96862745 0.49803922 0.         0.         0.         0.\n",
      " 0.         0.         0.         0.         0.         0.\n",
      " 0.         0.         0.11764706 0.14117647 0.36862745 0.60392157\n",
      " 0.66666667 0.99215686 0.99215686 0.99215686 0.99215686 0.99215686\n",
      " 0.88235294 0.6745098  0.99215686 0.94901961 0.76470588 0.25098039\n",
      " 0.         0.         0.         0.         0.         0.\n",
      " 0.         0.         0.         0.         0.         0.19215686\n",
      " 0.93333333 0.99215686 0.99215686 0.99215686 0.99215686 0.99215686\n",
      " 0.99215686 0.99215686 0.99215686 0.98431373 0.36470588 0.32156863\n",
      " 0.32156863 0.21960784 0.15294118 0.         0.         0.\n",
      " 0.         0.         0.         0.         0.         0.\n",
      " 0.         0.         0.         0.07058824 0.85882353 0.99215686\n",
      " 0.99215686 0.99215686 0.99215686 0.99215686 0.77647059 0.71372549\n",
      " 0.96862745 0.94509804 0.         0.         0.         0.\n",
      " 0.         0.         0.         0.         0.         0.\n",
      " 0.         0.         0.         0.         0.         0.\n",
      " 0.         0.         0.31372549 0.61176471 0.41960784 0.99215686\n",
      " 0.99215686 0.80392157 0.04313725 0.         0.16862745 0.60392157\n",
      " 0.         0.         0.         0.         0.         0.\n",
      " 0.         0.         0.         0.         0.         0.\n",
      " 0.         0.         0.         0.         0.         0.\n",
      " 0.         0.05490196 0.00392157 0.60392157 0.99215686 0.35294118\n",
      " 0.         0.         0.         0.         0.         0.\n",
      " 0.         0.         0.         0.         0.         0.\n",
      " 0.         0.         0.         0.         0.         0.\n",
      " 0.         0.         0.         0.         0.         0.\n",
      " 0.         0.54509804 0.99215686 0.74509804 0.00784314 0.\n",
      " 0.         0.         0.         0.         0.         0.\n",
      " 0.         0.         0.         0.         0.         0.\n",
      " 0.         0.         0.         0.         0.         0.\n",
      " 0.         0.         0.         0.         0.         0.04313725\n",
      " 0.74509804 0.99215686 0.2745098  0.         0.         0.\n",
      " 0.         0.         0.         0.         0.         0.\n",
      " 0.         0.         0.         0.         0.         0.\n",
      " 0.         0.         0.         0.         0.         0.\n",
      " 0.         0.         0.         0.         0.1372549  0.94509804\n",
      " 0.88235294 0.62745098 0.42352941 0.00392157 0.         0.\n",
      " 0.         0.         0.         0.         0.         0.\n",
      " 0.         0.         0.         0.         0.         0.\n",
      " 0.         0.         0.         0.         0.         0.\n",
      " 0.         0.         0.         0.31764706 0.94117647 0.99215686\n",
      " 0.99215686 0.46666667 0.09803922 0.         0.         0.\n",
      " 0.         0.         0.         0.         0.         0.\n",
      " 0.         0.         0.         0.         0.         0.\n",
      " 0.         0.         0.         0.         0.         0.\n",
      " 0.         0.         0.17647059 0.72941176 0.99215686 0.99215686\n",
      " 0.58823529 0.10588235 0.         0.         0.         0.\n",
      " 0.         0.         0.         0.         0.         0.\n",
      " 0.         0.         0.         0.         0.         0.\n",
      " 0.         0.         0.         0.         0.         0.\n",
      " 0.         0.0627451  0.36470588 0.98823529 0.99215686 0.73333333\n",
      " 0.         0.         0.         0.         0.         0.\n",
      " 0.         0.         0.         0.         0.         0.\n",
      " 0.         0.         0.         0.         0.         0.\n",
      " 0.         0.         0.         0.         0.         0.\n",
      " 0.         0.97647059 0.99215686 0.97647059 0.25098039 0.\n",
      " 0.         0.         0.         0.         0.         0.\n",
      " 0.         0.         0.         0.         0.         0.\n",
      " 0.         0.         0.         0.         0.         0.\n",
      " 0.         0.         0.18039216 0.50980392 0.71764706 0.99215686\n",
      " 0.99215686 0.81176471 0.00784314 0.         0.         0.\n",
      " 0.         0.         0.         0.         0.         0.\n",
      " 0.         0.         0.         0.         0.         0.\n",
      " 0.         0.         0.         0.         0.15294118 0.58039216\n",
      " 0.89803922 0.99215686 0.99215686 0.99215686 0.98039216 0.71372549\n",
      " 0.         0.         0.         0.         0.         0.\n",
      " 0.         0.         0.         0.         0.         0.\n",
      " 0.         0.         0.         0.         0.         0.\n",
      " 0.09411765 0.44705882 0.86666667 0.99215686 0.99215686 0.99215686\n",
      " 0.99215686 0.78823529 0.30588235 0.         0.         0.\n",
      " 0.         0.         0.         0.         0.         0.\n",
      " 0.         0.         0.         0.         0.         0.\n",
      " 0.         0.         0.09019608 0.25882353 0.83529412 0.99215686\n",
      " 0.99215686 0.99215686 0.99215686 0.77647059 0.31764706 0.00784314\n",
      " 0.         0.         0.         0.         0.         0.\n",
      " 0.         0.         0.         0.         0.         0.\n",
      " 0.         0.         0.         0.         0.07058824 0.67058824\n",
      " 0.85882353 0.99215686 0.99215686 0.99215686 0.99215686 0.76470588\n",
      " 0.31372549 0.03529412 0.         0.         0.         0.\n",
      " 0.         0.         0.         0.         0.         0.\n",
      " 0.         0.         0.         0.         0.         0.\n",
      " 0.21568627 0.6745098  0.88627451 0.99215686 0.99215686 0.99215686\n",
      " 0.99215686 0.95686275 0.52156863 0.04313725 0.         0.\n",
      " 0.         0.         0.         0.         0.         0.\n",
      " 0.         0.         0.         0.         0.         0.\n",
      " 0.         0.         0.         0.         0.53333333 0.99215686\n",
      " 0.99215686 0.99215686 0.83137255 0.52941176 0.51764706 0.0627451\n",
      " 0.         0.         0.         0.         0.         0.\n",
      " 0.         0.         0.         0.         0.         0.\n",
      " 0.         0.         0.         0.         0.         0.\n",
      " 0.         0.         0.         0.         0.         0.\n",
      " 0.         0.         0.         0.         0.         0.\n",
      " 0.         0.         0.         0.         0.         0.\n",
      " 0.         0.         0.         0.         0.         0.\n",
      " 0.         0.         0.         0.         0.         0.\n",
      " 0.         0.         0.         0.         0.         0.\n",
      " 0.         0.         0.         0.         0.         0.\n",
      " 0.         0.         0.         0.         0.         0.\n",
      " 0.         0.         0.         0.         0.         0.\n",
      " 0.         0.         0.         0.         0.         0.\n",
      " 0.         0.         0.         0.         0.         0.\n",
      " 0.         0.         0.         0.         0.         0.\n",
      " 0.         0.         0.         0.         0.         0.\n",
      " 0.         0.         0.         0.        ]\n"
     ]
    }
   ],
   "source": [
    "# example data point after normlizing\n",
    "print(X_train[0])"
   ]
  },
  {
   "cell_type": "code",
   "execution_count": 11,
   "metadata": {
    "colab": {
     "base_uri": "https://localhost:8080/",
     "height": 50
    },
    "colab_type": "code",
    "id": "MgLY8dnk4mMA",
    "outputId": "ded8d0ca-c049-4abb-a544-fe0e724e0aad"
   },
   "outputs": [
    {
     "name": "stdout",
     "output_type": "stream",
     "text": [
      "Class label of first image : 5\n",
      "After converting the output into a vector :  [0. 0. 0. 0. 0. 1. 0. 0. 0. 0.]\n"
     ]
    }
   ],
   "source": [
    "# here we are having a class number for each image\n",
    "print(\"Class label of first image :\", y_train[0])\n",
    "\n",
    "# lets convert this into a 10 dimensional vector\n",
    "# ex: consider an image is 5 convert it into 5 => [0, 0, 0, 0, 0, 1, 0, 0, 0, 0]\n",
    "# this conversion needed for MLPs \n",
    "\n",
    "Y_train = np_utils.to_categorical(y_train, 10) \n",
    "Y_test = np_utils.to_categorical(y_test, 10)\n",
    "\n",
    "print(\"After converting the output into a vector : \",Y_train[0])"
   ]
  },
  {
   "cell_type": "code",
   "execution_count": 0,
   "metadata": {
    "colab": {},
    "colab_type": "code",
    "id": "4sYdFAvr4obh"
   },
   "outputs": [],
   "source": [
    "from keras.models import Sequential \n",
    "from keras.layers import Dense, Activation \n",
    "# some model parameters\n",
    "\n",
    "output_dim = 10\n",
    "input_dim = X_train.shape[1]\n",
    "\n",
    "batch_size = 128 \n"
   ]
  },
  {
   "cell_type": "markdown",
   "metadata": {
    "colab_type": "text",
    "id": "g4qQwqcKG1_e"
   },
   "source": [
    "# Defining a function for model with dropout as well as batch normalisation"
   ]
  },
  {
   "cell_type": "code",
   "execution_count": 0,
   "metadata": {
    "colab": {},
    "colab_type": "code",
    "id": "OIgn5L_1DjIl"
   },
   "outputs": [],
   "source": [
    "# https://stackoverflow.com/questions/34716454/where-do-i-call-the-batchnormalization-function-in-keras\n",
    "\n",
    "from keras.layers import Dropout\n",
    "from keras.layers.normalization import BatchNormalization\n",
    "from keras import initializers as K\n",
    "\n",
    "def nn(n_layers,d):\n",
    "  model = Sequential()\n",
    "\n",
    "  model.add(Dense(n_layers[0], activation='relu', input_shape=(input_dim,), kernel_initializer=K.he_normal(seed=None)))\n",
    "  model.add(BatchNormalization())\n",
    "  model.add(Dropout(d[0]))\n",
    "\n",
    "  for i in range(len(n_layers)-1):\n",
    "    model.add(Dense(n_layers[i+1], activation='relu',kernel_initializer=K.he_normal(seed=None)) )\n",
    "    model.add(BatchNormalization())\n",
    "    model.add(Dropout(d[i+1]))\n",
    "\n",
    "  model.add(Dense(output_dim, activation='softmax'))\n",
    "\n",
    "\n",
    "  model.summary()\n",
    "\n",
    "\n",
    "  model.compile(optimizer='adam', loss='categorical_crossentropy', metrics=['accuracy'])\n",
    "\n",
    "  history = model.fit(X_train, Y_train, batch_size=batch_size, epochs=nb_epoch, verbose=1, validation_data=(X_test, Y_test))\n",
    "\n",
    "\n",
    "  %matplotlib inline\n",
    "  score = model.evaluate(X_test, Y_test, verbose=0) \n",
    "  print('Test score:', score[0]) \n",
    "  print('Test accuracy:', score[1])\n",
    "\n",
    "  fig,ax = plt.subplots(1,1)\n",
    "  ax.set_xlabel('epoch') ; ax.set_ylabel('Categorical Crossentropy Loss')\n",
    "\n",
    "  # list of epoch numbers\n",
    "  x = list(range(1,nb_epoch+1))\n",
    "\n",
    "   #dict_keys(['val_loss', 'val_acc', 'loss', 'acc'])\n",
    "  # history = model_drop.fit(X_train, Y_train, batch_size=batch_size, epochs=nb_epoch, verbose=1, validation_data=(X_test, Y_test))\n",
    "\n",
    "  # we will get val_loss and val_acc only when you pass the paramter validation_data\n",
    "  # val_loss : validation loss\n",
    "  # val_acc : validation accuracy\n",
    "\n",
    "  # loss : training loss\n",
    "  # acc : train accuracy\n",
    "  # for each key in histrory.histrory we will have a list of length equal to number of epochs\n",
    "  vy = history.history['val_loss']\n",
    "  ty = history.history['loss']\n",
    "  plt_dynamic(x, vy, ty, ax)"
   ]
  },
  {
   "cell_type": "markdown",
   "metadata": {
    "colab_type": "text",
    "id": "DH1vEPkZHG40"
   },
   "source": [
    "## Architecture with 2 hidden layers."
   ]
  },
  {
   "cell_type": "code",
   "execution_count": 78,
   "metadata": {
    "colab": {
     "base_uri": "https://localhost:8080/",
     "height": 1526
    },
    "colab_type": "code",
    "id": "8EbCP5TdFOOm",
    "outputId": "719425b9-a973-4d0a-ed09-ed67d683804d"
   },
   "outputs": [
    {
     "name": "stdout",
     "output_type": "stream",
     "text": [
      "_________________________________________________________________\n",
      "Layer (type)                 Output Shape              Param #   \n",
      "=================================================================\n",
      "dense_128 (Dense)            (None, 468)               367380    \n",
      "_________________________________________________________________\n",
      "batch_normalization_85 (Batc (None, 468)               1872      \n",
      "_________________________________________________________________\n",
      "dropout_65 (Dropout)         (None, 468)               0         \n",
      "_________________________________________________________________\n",
      "dense_129 (Dense)            (None, 92)                43148     \n",
      "_________________________________________________________________\n",
      "batch_normalization_86 (Batc (None, 92)                368       \n",
      "_________________________________________________________________\n",
      "dropout_66 (Dropout)         (None, 92)                0         \n",
      "_________________________________________________________________\n",
      "dense_130 (Dense)            (None, 10)                930       \n",
      "=================================================================\n",
      "Total params: 413,698\n",
      "Trainable params: 412,578\n",
      "Non-trainable params: 1,120\n",
      "_________________________________________________________________\n",
      "Train on 60000 samples, validate on 10000 samples\n",
      "Epoch 1/25\n",
      "60000/60000 [==============================] - 13s 210us/step - loss: 0.5165 - acc: 0.8445 - val_loss: 0.1666 - val_acc: 0.9478\n",
      "Epoch 2/25\n",
      "60000/60000 [==============================] - 4s 64us/step - loss: 0.2460 - acc: 0.9273 - val_loss: 0.1168 - val_acc: 0.9649\n",
      "Epoch 3/25\n",
      "60000/60000 [==============================] - 4s 65us/step - loss: 0.1948 - acc: 0.9419 - val_loss: 0.1059 - val_acc: 0.9652\n",
      "Epoch 4/25\n",
      "60000/60000 [==============================] - 4s 65us/step - loss: 0.1696 - acc: 0.9491 - val_loss: 0.0896 - val_acc: 0.9730\n",
      "Epoch 5/25\n",
      "60000/60000 [==============================] - 4s 65us/step - loss: 0.1546 - acc: 0.9530 - val_loss: 0.0897 - val_acc: 0.9714\n",
      "Epoch 6/25\n",
      "60000/60000 [==============================] - 4s 66us/step - loss: 0.1410 - acc: 0.9573 - val_loss: 0.0799 - val_acc: 0.9753\n",
      "Epoch 7/25\n",
      "60000/60000 [==============================] - 4s 65us/step - loss: 0.1316 - acc: 0.9617 - val_loss: 0.0738 - val_acc: 0.9775\n",
      "Epoch 8/25\n",
      "60000/60000 [==============================] - 4s 65us/step - loss: 0.1211 - acc: 0.9641 - val_loss: 0.0730 - val_acc: 0.9766\n",
      "Epoch 9/25\n",
      "60000/60000 [==============================] - 4s 66us/step - loss: 0.1160 - acc: 0.9640 - val_loss: 0.0701 - val_acc: 0.9773\n",
      "Epoch 10/25\n",
      "60000/60000 [==============================] - 4s 65us/step - loss: 0.1099 - acc: 0.9664 - val_loss: 0.0658 - val_acc: 0.9796\n",
      "Epoch 11/25\n",
      "60000/60000 [==============================] - 4s 65us/step - loss: 0.0994 - acc: 0.9702 - val_loss: 0.0634 - val_acc: 0.9808\n",
      "Epoch 12/25\n",
      "60000/60000 [==============================] - 4s 65us/step - loss: 0.0975 - acc: 0.9701 - val_loss: 0.0618 - val_acc: 0.9813\n",
      "Epoch 13/25\n",
      "60000/60000 [==============================] - 4s 66us/step - loss: 0.0937 - acc: 0.9710 - val_loss: 0.0652 - val_acc: 0.9795\n",
      "Epoch 14/25\n",
      "60000/60000 [==============================] - 4s 65us/step - loss: 0.0894 - acc: 0.9720 - val_loss: 0.0616 - val_acc: 0.9806\n",
      "Epoch 15/25\n",
      "60000/60000 [==============================] - 4s 64us/step - loss: 0.0891 - acc: 0.9731 - val_loss: 0.0589 - val_acc: 0.9819\n",
      "Epoch 16/25\n",
      "60000/60000 [==============================] - 4s 64us/step - loss: 0.0855 - acc: 0.9730 - val_loss: 0.0603 - val_acc: 0.9817\n",
      "Epoch 17/25\n",
      "60000/60000 [==============================] - 4s 64us/step - loss: 0.0803 - acc: 0.9752 - val_loss: 0.0602 - val_acc: 0.9829\n",
      "Epoch 18/25\n",
      "60000/60000 [==============================] - 4s 64us/step - loss: 0.0812 - acc: 0.9755 - val_loss: 0.0612 - val_acc: 0.9825\n",
      "Epoch 19/25\n",
      "60000/60000 [==============================] - 4s 64us/step - loss: 0.0780 - acc: 0.9751 - val_loss: 0.0593 - val_acc: 0.9823\n",
      "Epoch 20/25\n",
      "60000/60000 [==============================] - 4s 64us/step - loss: 0.0754 - acc: 0.9772 - val_loss: 0.0567 - val_acc: 0.9833\n",
      "Epoch 21/25\n",
      "60000/60000 [==============================] - 4s 64us/step - loss: 0.0730 - acc: 0.9778 - val_loss: 0.0571 - val_acc: 0.9836\n",
      "Epoch 22/25\n",
      "60000/60000 [==============================] - 4s 64us/step - loss: 0.0707 - acc: 0.9781 - val_loss: 0.0553 - val_acc: 0.9840\n",
      "Epoch 23/25\n",
      "60000/60000 [==============================] - 4s 64us/step - loss: 0.0674 - acc: 0.9791 - val_loss: 0.0569 - val_acc: 0.9831\n",
      "Epoch 24/25\n",
      "60000/60000 [==============================] - 4s 64us/step - loss: 0.0701 - acc: 0.9785 - val_loss: 0.0552 - val_acc: 0.9838\n",
      "Epoch 25/25\n",
      "60000/60000 [==============================] - 4s 67us/step - loss: 0.0645 - acc: 0.9796 - val_loss: 0.0584 - val_acc: 0.9828\n",
      "Test score: 0.058353246974284415\n",
      "Test accuracy: 0.9828\n"
     ]
    },
    {
     "data": {
      "image/png": "[encoded data removed]",
      "text/plain": [
       "<Figure size 432x288 with 1 Axes>"
      ]
     },
     "metadata": {
      "tags": []
     },
     "output_type": "display_data"
    }
   ],
   "source": [
    "n_layers = [468,92]\n",
    "d = [0.6,0.5]\n",
    "nb_epoch = 25\n",
    "nn(n_layers,d)"
   ]
  },
  {
   "cell_type": "markdown",
   "metadata": {
    "colab_type": "text",
    "id": "hxQzUVWmHicK"
   },
   "source": [
    "## Architecture with 3 hidden layers."
   ]
  },
  {
   "cell_type": "code",
   "execution_count": 79,
   "metadata": {
    "colab": {
     "base_uri": "https://localhost:8080/",
     "height": 1627
    },
    "colab_type": "code",
    "id": "IkfwnjgCHmZd",
    "outputId": "72b8eaa3-6ce5-41f1-8f80-5ffe63d87f27"
   },
   "outputs": [
    {
     "name": "stdout",
     "output_type": "stream",
     "text": [
      "_________________________________________________________________\n",
      "Layer (type)                 Output Shape              Param #   \n",
      "=================================================================\n",
      "dense_131 (Dense)            (None, 512)               401920    \n",
      "_________________________________________________________________\n",
      "batch_normalization_87 (Batc (None, 512)               2048      \n",
      "_________________________________________________________________\n",
      "dropout_67 (Dropout)         (None, 512)               0         \n",
      "_________________________________________________________________\n",
      "dense_132 (Dense)            (None, 256)               131328    \n",
      "_________________________________________________________________\n",
      "batch_normalization_88 (Batc (None, 256)               1024      \n",
      "_________________________________________________________________\n",
      "dropout_68 (Dropout)         (None, 256)               0         \n",
      "_________________________________________________________________\n",
      "dense_133 (Dense)            (None, 128)               32896     \n",
      "_________________________________________________________________\n",
      "batch_normalization_89 (Batc (None, 128)               512       \n",
      "_________________________________________________________________\n",
      "dropout_69 (Dropout)         (None, 128)               0         \n",
      "_________________________________________________________________\n",
      "dense_134 (Dense)            (None, 10)                1290      \n",
      "=================================================================\n",
      "Total params: 571,018\n",
      "Trainable params: 569,226\n",
      "Non-trainable params: 1,792\n",
      "_________________________________________________________________\n",
      "Train on 60000 samples, validate on 10000 samples\n",
      "Epoch 1/25\n",
      "60000/60000 [==============================] - 14s 233us/step - loss: 0.6239 - acc: 0.8107 - val_loss: 0.1769 - val_acc: 0.9457\n",
      "Epoch 2/25\n",
      "60000/60000 [==============================] - 5s 78us/step - loss: 0.2689 - acc: 0.9211 - val_loss: 0.1285 - val_acc: 0.9598\n",
      "Epoch 3/25\n",
      "60000/60000 [==============================] - 5s 77us/step - loss: 0.2078 - acc: 0.9396 - val_loss: 0.1051 - val_acc: 0.9675\n",
      "Epoch 4/25\n",
      "60000/60000 [==============================] - 5s 76us/step - loss: 0.1737 - acc: 0.9488 - val_loss: 0.0943 - val_acc: 0.9718\n",
      "Epoch 5/25\n",
      "60000/60000 [==============================] - 5s 77us/step - loss: 0.1565 - acc: 0.9537 - val_loss: 0.0911 - val_acc: 0.9714\n",
      "Epoch 6/25\n",
      "60000/60000 [==============================] - 5s 77us/step - loss: 0.1381 - acc: 0.9598 - val_loss: 0.0854 - val_acc: 0.9735\n",
      "Epoch 7/25\n",
      "60000/60000 [==============================] - 5s 79us/step - loss: 0.1246 - acc: 0.9625 - val_loss: 0.0802 - val_acc: 0.9764\n",
      "Epoch 8/25\n",
      "60000/60000 [==============================] - 5s 78us/step - loss: 0.1201 - acc: 0.9645 - val_loss: 0.0745 - val_acc: 0.9774\n",
      "Epoch 9/25\n",
      "60000/60000 [==============================] - 5s 78us/step - loss: 0.1074 - acc: 0.9685 - val_loss: 0.0715 - val_acc: 0.9797\n",
      "Epoch 10/25\n",
      "60000/60000 [==============================] - 5s 77us/step - loss: 0.1027 - acc: 0.9692 - val_loss: 0.0681 - val_acc: 0.9795\n",
      "Epoch 11/25\n",
      "60000/60000 [==============================] - 5s 79us/step - loss: 0.1010 - acc: 0.9700 - val_loss: 0.0647 - val_acc: 0.9810\n",
      "Epoch 12/25\n",
      "60000/60000 [==============================] - 5s 78us/step - loss: 0.0916 - acc: 0.9727 - val_loss: 0.0661 - val_acc: 0.9806\n",
      "Epoch 13/25\n",
      "60000/60000 [==============================] - 5s 80us/step - loss: 0.0882 - acc: 0.9732 - val_loss: 0.0662 - val_acc: 0.9800\n",
      "Epoch 14/25\n",
      "60000/60000 [==============================] - 5s 79us/step - loss: 0.0857 - acc: 0.9744 - val_loss: 0.0631 - val_acc: 0.9813\n",
      "Epoch 15/25\n",
      "60000/60000 [==============================] - 5s 82us/step - loss: 0.0832 - acc: 0.9750 - val_loss: 0.0608 - val_acc: 0.9825\n",
      "Epoch 16/25\n",
      "60000/60000 [==============================] - 5s 80us/step - loss: 0.0758 - acc: 0.9770 - val_loss: 0.0578 - val_acc: 0.9842\n",
      "Epoch 17/25\n",
      "60000/60000 [==============================] - 5s 80us/step - loss: 0.0717 - acc: 0.9786 - val_loss: 0.0621 - val_acc: 0.9828\n",
      "Epoch 18/25\n",
      "60000/60000 [==============================] - 5s 82us/step - loss: 0.0724 - acc: 0.9783 - val_loss: 0.0628 - val_acc: 0.9816\n",
      "Epoch 19/25\n",
      "60000/60000 [==============================] - 5s 81us/step - loss: 0.0684 - acc: 0.9798 - val_loss: 0.0591 - val_acc: 0.9831\n",
      "Epoch 20/25\n",
      "60000/60000 [==============================] - 5s 81us/step - loss: 0.0708 - acc: 0.9790 - val_loss: 0.0630 - val_acc: 0.9821\n",
      "Epoch 21/25\n",
      "60000/60000 [==============================] - 5s 79us/step - loss: 0.0657 - acc: 0.9802 - val_loss: 0.0585 - val_acc: 0.9838\n",
      "Epoch 22/25\n",
      "60000/60000 [==============================] - 5s 80us/step - loss: 0.0627 - acc: 0.9810 - val_loss: 0.0565 - val_acc: 0.9840\n",
      "Epoch 23/25\n",
      "60000/60000 [==============================] - 5s 79us/step - loss: 0.0620 - acc: 0.9813 - val_loss: 0.0570 - val_acc: 0.9841\n",
      "Epoch 24/25\n",
      "60000/60000 [==============================] - 5s 79us/step - loss: 0.0614 - acc: 0.9813 - val_loss: 0.0617 - val_acc: 0.9837\n",
      "Epoch 25/25\n",
      "60000/60000 [==============================] - 5s 80us/step - loss: 0.0612 - acc: 0.9815 - val_loss: 0.0549 - val_acc: 0.9850\n",
      "Test score: 0.0548867928153486\n",
      "Test accuracy: 0.985\n"
     ]
    },
    {
     "data": {
      "image/png": "[encoded data removed]",
      "text/plain": [
       "<Figure size 432x288 with 1 Axes>"
      ]
     },
     "metadata": {
      "tags": []
     },
     "output_type": "display_data"
    }
   ],
   "source": [
    "n_layers = [512,256,128]\n",
    "d = [0.5,0.6,0.5]\n",
    "nb_epoch = 25\n",
    "nn(n_layers,d)"
   ]
  },
  {
   "cell_type": "markdown",
   "metadata": {
    "colab_type": "text",
    "id": "hT9p3hNuaXz_"
   },
   "source": [
    "## Architecture with 4 hidden layers( for experimentation)"
   ]
  },
  {
   "cell_type": "code",
   "execution_count": 56,
   "metadata": {
    "colab": {
     "base_uri": "https://localhost:8080/",
     "height": 1728
    },
    "colab_type": "code",
    "id": "-UopAxJOKNEC",
    "outputId": "54ab5f44-dc58-463e-9824-e012ecb13c96"
   },
   "outputs": [
    {
     "name": "stdout",
     "output_type": "stream",
     "text": [
      "_________________________________________________________________\n",
      "Layer (type)                 Output Shape              Param #   \n",
      "=================================================================\n",
      "dense_56 (Dense)             (None, 600)               471000    \n",
      "_________________________________________________________________\n",
      "batch_normalization_44 (Batc (None, 600)               2400      \n",
      "_________________________________________________________________\n",
      "dropout_44 (Dropout)         (None, 600)               0         \n",
      "_________________________________________________________________\n",
      "dense_57 (Dense)             (None, 460)               276460    \n",
      "_________________________________________________________________\n",
      "batch_normalization_45 (Batc (None, 460)               1840      \n",
      "_________________________________________________________________\n",
      "dropout_45 (Dropout)         (None, 460)               0         \n",
      "_________________________________________________________________\n",
      "dense_58 (Dense)             (None, 290)               133690    \n",
      "_________________________________________________________________\n",
      "batch_normalization_46 (Batc (None, 290)               1160      \n",
      "_________________________________________________________________\n",
      "dropout_46 (Dropout)         (None, 290)               0         \n",
      "_________________________________________________________________\n",
      "dense_59 (Dense)             (None, 112)               32592     \n",
      "_________________________________________________________________\n",
      "batch_normalization_47 (Batc (None, 112)               448       \n",
      "_________________________________________________________________\n",
      "dropout_47 (Dropout)         (None, 112)               0         \n",
      "_________________________________________________________________\n",
      "dense_60 (Dense)             (None, 10)                1130      \n",
      "=================================================================\n",
      "Total params: 920,720\n",
      "Trainable params: 917,796\n",
      "Non-trainable params: 2,924\n",
      "_________________________________________________________________\n",
      "Train on 60000 samples, validate on 10000 samples\n",
      "Epoch 1/25\n",
      "60000/60000 [==============================] - 10s 175us/step - loss: 1.0535 - acc: 0.6908 - val_loss: 0.2336 - val_acc: 0.9315\n",
      "Epoch 2/25\n",
      "60000/60000 [==============================] - 5s 91us/step - loss: 0.3588 - acc: 0.8999 - val_loss: 0.1516 - val_acc: 0.9547\n",
      "Epoch 3/25\n",
      "60000/60000 [==============================] - 5s 89us/step - loss: 0.2583 - acc: 0.9291 - val_loss: 0.1222 - val_acc: 0.9644\n",
      "Epoch 4/25\n",
      "60000/60000 [==============================] - 5s 90us/step - loss: 0.2100 - acc: 0.9431 - val_loss: 0.1164 - val_acc: 0.9671\n",
      "Epoch 5/25\n",
      "60000/60000 [==============================] - 5s 90us/step - loss: 0.1803 - acc: 0.9518 - val_loss: 0.0983 - val_acc: 0.9730\n",
      "Epoch 6/25\n",
      "60000/60000 [==============================] - 5s 91us/step - loss: 0.1652 - acc: 0.9559 - val_loss: 0.0905 - val_acc: 0.9740\n",
      "Epoch 7/25\n",
      "60000/60000 [==============================] - 5s 89us/step - loss: 0.1473 - acc: 0.9612 - val_loss: 0.0846 - val_acc: 0.9780\n",
      "Epoch 8/25\n",
      "60000/60000 [==============================] - 5s 90us/step - loss: 0.1353 - acc: 0.9637 - val_loss: 0.0848 - val_acc: 0.9776\n",
      "Epoch 9/25\n",
      "60000/60000 [==============================] - 5s 89us/step - loss: 0.1268 - acc: 0.9655 - val_loss: 0.0797 - val_acc: 0.9771\n",
      "Epoch 10/25\n",
      "60000/60000 [==============================] - 5s 90us/step - loss: 0.1123 - acc: 0.9691 - val_loss: 0.0818 - val_acc: 0.9781\n",
      "Epoch 11/25\n",
      "60000/60000 [==============================] - 5s 90us/step - loss: 0.1104 - acc: 0.9708 - val_loss: 0.0751 - val_acc: 0.9795\n",
      "Epoch 12/25\n",
      "60000/60000 [==============================] - 5s 90us/step - loss: 0.1042 - acc: 0.9724 - val_loss: 0.0798 - val_acc: 0.9777\n",
      "Epoch 13/25\n",
      "60000/60000 [==============================] - 5s 90us/step - loss: 0.1020 - acc: 0.9728 - val_loss: 0.0753 - val_acc: 0.9817\n",
      "Epoch 14/25\n",
      "60000/60000 [==============================] - 5s 90us/step - loss: 0.0949 - acc: 0.9748 - val_loss: 0.0733 - val_acc: 0.9814\n",
      "Epoch 15/25\n",
      "60000/60000 [==============================] - 5s 91us/step - loss: 0.0911 - acc: 0.9756 - val_loss: 0.0762 - val_acc: 0.9799\n",
      "Epoch 16/25\n",
      "60000/60000 [==============================] - 6s 92us/step - loss: 0.0876 - acc: 0.9763 - val_loss: 0.0663 - val_acc: 0.9816\n",
      "Epoch 17/25\n",
      "60000/60000 [==============================] - 5s 90us/step - loss: 0.0857 - acc: 0.9771 - val_loss: 0.0760 - val_acc: 0.9802\n",
      "Epoch 18/25\n",
      "60000/60000 [==============================] - 5s 89us/step - loss: 0.0789 - acc: 0.9784 - val_loss: 0.0675 - val_acc: 0.9818\n",
      "Epoch 19/25\n",
      "60000/60000 [==============================] - 5s 89us/step - loss: 0.0773 - acc: 0.9789 - val_loss: 0.0631 - val_acc: 0.9832\n",
      "Epoch 20/25\n",
      "60000/60000 [==============================] - 5s 89us/step - loss: 0.0749 - acc: 0.9799 - val_loss: 0.0649 - val_acc: 0.9837\n",
      "Epoch 21/25\n",
      "60000/60000 [==============================] - 5s 89us/step - loss: 0.0741 - acc: 0.9804 - val_loss: 0.0624 - val_acc: 0.9841\n",
      "Epoch 22/25\n",
      "60000/60000 [==============================] - 5s 89us/step - loss: 0.0678 - acc: 0.9815 - val_loss: 0.0622 - val_acc: 0.9829\n",
      "Epoch 23/25\n",
      "60000/60000 [==============================] - 5s 89us/step - loss: 0.0638 - acc: 0.9824 - val_loss: 0.0632 - val_acc: 0.9848\n",
      "Epoch 24/25\n",
      "60000/60000 [==============================] - 5s 91us/step - loss: 0.0631 - acc: 0.9827 - val_loss: 0.0644 - val_acc: 0.9832\n",
      "Epoch 25/25\n",
      "60000/60000 [==============================] - 6s 93us/step - loss: 0.0612 - acc: 0.9831 - val_loss: 0.0638 - val_acc: 0.9847\n",
      "Test score: 0.06384382131070597\n",
      "Test accuracy: 0.9847\n"
     ]
    },
    {
     "data": {
      "image/png": "[encoded data removed]",
      "text/plain": [
       "<Figure size 432x288 with 1 Axes>"
      ]
     },
     "metadata": {
      "tags": []
     },
     "output_type": "display_data"
    }
   ],
   "source": [
    "#Using 4 hidden layers for experimentation\n",
    "n_layers = [600,460,290,112]\n",
    "d = [0.4,0.7,0.5,0.7]\n",
    "nb_epoch = 25\n",
    "nn(n_layers,d)"
   ]
  },
  {
   "cell_type": "markdown",
   "metadata": {
    "colab_type": "text",
    "id": "vr-IBOkBL3DX"
   },
   "source": [
    "## Architecture with 5 hidden layers."
   ]
  },
  {
   "cell_type": "code",
   "execution_count": 59,
   "metadata": {
    "colab": {
     "base_uri": "https://localhost:8080/",
     "height": 1829
    },
    "colab_type": "code",
    "id": "6N2GwYxCL8eF",
    "outputId": "8f1f909e-0313-4fe7-c34b-61a17697a311"
   },
   "outputs": [
    {
     "name": "stdout",
     "output_type": "stream",
     "text": [
      "_________________________________________________________________\n",
      "Layer (type)                 Output Shape              Param #   \n",
      "=================================================================\n",
      "dense_72 (Dense)             (None, 650)               510250    \n",
      "_________________________________________________________________\n",
      "batch_normalization_58 (Batc (None, 650)               2600      \n",
      "_________________________________________________________________\n",
      "dropout_57 (Dropout)         (None, 650)               0         \n",
      "_________________________________________________________________\n",
      "dense_73 (Dense)             (None, 520)               338520    \n",
      "_________________________________________________________________\n",
      "batch_normalization_59 (Batc (None, 520)               2080      \n",
      "_________________________________________________________________\n",
      "dropout_58 (Dropout)         (None, 520)               0         \n",
      "_________________________________________________________________\n",
      "dense_74 (Dense)             (None, 410)               213610    \n",
      "_________________________________________________________________\n",
      "batch_normalization_60 (Batc (None, 410)               1640      \n",
      "_________________________________________________________________\n",
      "dropout_59 (Dropout)         (None, 410)               0         \n",
      "_________________________________________________________________\n",
      "dense_75 (Dense)             (None, 290)               119190    \n",
      "_________________________________________________________________\n",
      "batch_normalization_61 (Batc (None, 290)               1160      \n",
      "_________________________________________________________________\n",
      "dropout_60 (Dropout)         (None, 290)               0         \n",
      "_________________________________________________________________\n",
      "dense_76 (Dense)             (None, 125)               36375     \n",
      "_________________________________________________________________\n",
      "batch_normalization_62 (Batc (None, 125)               500       \n",
      "_________________________________________________________________\n",
      "dropout_61 (Dropout)         (None, 125)               0         \n",
      "_________________________________________________________________\n",
      "dense_77 (Dense)             (None, 10)                1260      \n",
      "=================================================================\n",
      "Total params: 1,227,185\n",
      "Trainable params: 1,223,195\n",
      "Non-trainable params: 3,990\n",
      "_________________________________________________________________\n",
      "Train on 60000 samples, validate on 10000 samples\n",
      "Epoch 1/25\n",
      "60000/60000 [==============================] - 13s 215us/step - loss: 0.9056 - acc: 0.7211 - val_loss: 0.2235 - val_acc: 0.9356\n",
      "Epoch 2/25\n",
      "60000/60000 [==============================] - 6s 107us/step - loss: 0.3179 - acc: 0.9073 - val_loss: 0.1436 - val_acc: 0.9601\n",
      "Epoch 3/25\n",
      "60000/60000 [==============================] - 6s 105us/step - loss: 0.2403 - acc: 0.9319 - val_loss: 0.1223 - val_acc: 0.9646\n",
      "Epoch 4/25\n",
      "60000/60000 [==============================] - 6s 107us/step - loss: 0.1951 - acc: 0.9447 - val_loss: 0.1002 - val_acc: 0.9710\n",
      "Epoch 5/25\n",
      "60000/60000 [==============================] - 7s 110us/step - loss: 0.1753 - acc: 0.9509 - val_loss: 0.0981 - val_acc: 0.9706\n",
      "Epoch 6/25\n",
      "60000/60000 [==============================] - 6s 107us/step - loss: 0.1575 - acc: 0.9554 - val_loss: 0.0891 - val_acc: 0.9753\n",
      "Epoch 7/25\n",
      "60000/60000 [==============================] - 6s 106us/step - loss: 0.1490 - acc: 0.9583 - val_loss: 0.0847 - val_acc: 0.9756\n",
      "Epoch 8/25\n",
      "60000/60000 [==============================] - 6s 105us/step - loss: 0.1349 - acc: 0.9621 - val_loss: 0.0875 - val_acc: 0.9763\n",
      "Epoch 9/25\n",
      "60000/60000 [==============================] - 6s 106us/step - loss: 0.1284 - acc: 0.9640 - val_loss: 0.0848 - val_acc: 0.9760\n",
      "Epoch 10/25\n",
      "60000/60000 [==============================] - 6s 105us/step - loss: 0.1186 - acc: 0.9668 - val_loss: 0.0814 - val_acc: 0.9783\n",
      "Epoch 11/25\n",
      "60000/60000 [==============================] - 6s 107us/step - loss: 0.1163 - acc: 0.9672 - val_loss: 0.0783 - val_acc: 0.9785\n",
      "Epoch 12/25\n",
      "60000/60000 [==============================] - 6s 106us/step - loss: 0.1090 - acc: 0.9697 - val_loss: 0.0752 - val_acc: 0.9801\n",
      "Epoch 13/25\n",
      "60000/60000 [==============================] - 6s 105us/step - loss: 0.1050 - acc: 0.9705 - val_loss: 0.0726 - val_acc: 0.9805\n",
      "Epoch 14/25\n",
      "60000/60000 [==============================] - 6s 106us/step - loss: 0.1008 - acc: 0.9720 - val_loss: 0.0747 - val_acc: 0.9809\n",
      "Epoch 15/25\n",
      "60000/60000 [==============================] - 6s 107us/step - loss: 0.0978 - acc: 0.9729 - val_loss: 0.0716 - val_acc: 0.9811\n",
      "Epoch 16/25\n",
      "60000/60000 [==============================] - 7s 116us/step - loss: 0.0923 - acc: 0.9743 - val_loss: 0.0632 - val_acc: 0.9815\n",
      "Epoch 17/25\n",
      "60000/60000 [==============================] - 7s 111us/step - loss: 0.0884 - acc: 0.9753 - val_loss: 0.0661 - val_acc: 0.9820\n",
      "Epoch 18/25\n",
      "60000/60000 [==============================] - 7s 110us/step - loss: 0.0896 - acc: 0.9744 - val_loss: 0.0614 - val_acc: 0.9833\n",
      "Epoch 19/25\n",
      "60000/60000 [==============================] - 6s 108us/step - loss: 0.0825 - acc: 0.9768 - val_loss: 0.0642 - val_acc: 0.9830\n",
      "Epoch 20/25\n",
      "60000/60000 [==============================] - 6s 108us/step - loss: 0.0803 - acc: 0.9782 - val_loss: 0.0604 - val_acc: 0.9827\n",
      "Epoch 21/25\n",
      "60000/60000 [==============================] - 6s 107us/step - loss: 0.0735 - acc: 0.9790 - val_loss: 0.0628 - val_acc: 0.9838\n",
      "Epoch 22/25\n",
      "60000/60000 [==============================] - 6s 107us/step - loss: 0.0722 - acc: 0.9789 - val_loss: 0.0635 - val_acc: 0.9834\n",
      "Epoch 23/25\n",
      "60000/60000 [==============================] - 6s 108us/step - loss: 0.0738 - acc: 0.9789 - val_loss: 0.0630 - val_acc: 0.9838\n",
      "Epoch 24/25\n",
      "60000/60000 [==============================] - 6s 108us/step - loss: 0.0706 - acc: 0.9795 - val_loss: 0.0638 - val_acc: 0.9831\n",
      "Epoch 25/25\n",
      "60000/60000 [==============================] - 6s 107us/step - loss: 0.0669 - acc: 0.9807 - val_loss: 0.0607 - val_acc: 0.9846\n",
      "Test score: 0.06073720659725368\n",
      "Test accuracy: 0.9846\n"
     ]
    },
    {
     "data": {
      "image/png": "[encoded data removed]",
      "text/plain": [
       "<Figure size 432x288 with 1 Axes>"
      ]
     },
     "metadata": {
      "tags": []
     },
     "output_type": "display_data"
    }
   ],
   "source": [
    "n_layers = [650,520,410,290,125]\n",
    "d = [0.5,0.6,0.5,0.5,0.5]\n",
    "nb_epoch = 25\n",
    "nn(n_layers,d)"
   ]
  },
  {
   "cell_type": "markdown",
   "metadata": {
    "colab_type": "text",
    "id": "xd5AlubwM8oH"
   },
   "source": [
    "# Defining a function for model with only batch normalisation and no dropout."
   ]
  },
  {
   "cell_type": "code",
   "execution_count": 0,
   "metadata": {
    "colab": {},
    "colab_type": "code",
    "id": "Egp0UJsKOqeO"
   },
   "outputs": [],
   "source": [
    "# https://stackoverflow.com/questions/34716454/where-do-i-call-the-batchnormalization-function-in-keras\n",
    "\n",
    "\n",
    "def nn1(n_layers,bn):\n",
    "  model = Sequential()\n",
    "  model.add(Dense(n_layers[0], activation='relu', input_shape=(input_dim,), kernel_initializer=K.he_normal(seed=None)))\n",
    "  if(bn==1):\n",
    "    model.add(BatchNormalization())\n",
    "    for i in range(len(n_layers)-1):\n",
    "      model.add(Dense(n_layers[i+1], activation='relu',kernel_initializer=K.he_normal(seed=None)) )\n",
    "      model.add(BatchNormalization())\n",
    "  else:\n",
    "    for i in range(len(n_layers)-1):\n",
    "      model.add(Dense(n_layers[i+1], activation='relu',kernel_initializer=K.he_normal(seed=None)) )\n",
    "    \n",
    "\n",
    "  model.add(Dense(output_dim, activation='softmax'))\n",
    "\n",
    "\n",
    "  model.summary()\n",
    "\n",
    "\n",
    "  model.compile(optimizer='adam', loss='categorical_crossentropy', metrics=['accuracy'])\n",
    "\n",
    "  history = model.fit(X_train, Y_train, batch_size=batch_size, epochs=nb_epoch, verbose=1, validation_data=(X_test, Y_test))\n",
    "\n",
    "\n",
    "  %matplotlib inline\n",
    "  score = model.evaluate(X_test, Y_test, verbose=0) \n",
    "  print('Test score:', score[0]) \n",
    "  print('Test accuracy:', score[1])\n",
    "\n",
    "  fig,ax = plt.subplots(1,1)\n",
    "  ax.set_xlabel('epoch') ; ax.set_ylabel('Categorical Crossentropy Loss')\n",
    "\n",
    "  # list of epoch numbers\n",
    "  x = list(range(1,nb_epoch+1))\n",
    "\n",
    "   #dict_keys(['val_loss', 'val_acc', 'loss', 'acc'])\n",
    "  # history = model_drop.fit(X_train, Y_train, batch_size=batch_size, epochs=nb_epoch, verbose=1, validation_data=(X_test, Y_test))\n",
    "\n",
    "  # we will get val_loss and val_acc only when you pass the paramter validation_data\n",
    "  # val_loss : validation loss\n",
    "  # val_acc : validation accuracy\n",
    "\n",
    "  # loss : training loss\n",
    "  # acc : train accuracy\n",
    "  # for each key in histrory.histrory we will have a list of length equal to number of epochs\n",
    "  vy = history.history['val_loss']\n",
    "  ty = history.history['loss']\n",
    "  plt_dynamic(x, vy, ty, ax)"
   ]
  },
  {
   "cell_type": "code",
   "execution_count": 0,
   "metadata": {
    "colab": {},
    "colab_type": "code",
    "id": "cnf-OSw5PxNu"
   },
   "outputs": [],
   "source": []
  },
  {
   "cell_type": "markdown",
   "metadata": {
    "colab_type": "text",
    "id": "nE_wD6LIP8F1"
   },
   "source": [
    "### Architecture with 2 hidden layers."
   ]
  },
  {
   "cell_type": "code",
   "execution_count": 70,
   "metadata": {
    "colab": {
     "base_uri": "https://localhost:8080/",
     "height": 1459
    },
    "colab_type": "code",
    "id": "t5wYidvAQGbT",
    "outputId": "eaa753ab-a4ca-4a95-b8b7-e8b311bc8013"
   },
   "outputs": [
    {
     "name": "stdout",
     "output_type": "stream",
     "text": [
      "_________________________________________________________________\n",
      "Layer (type)                 Output Shape              Param #   \n",
      "=================================================================\n",
      "dense_102 (Dense)            (None, 468)               367380    \n",
      "_________________________________________________________________\n",
      "batch_normalization_75 (Batc (None, 468)               1872      \n",
      "_________________________________________________________________\n",
      "dense_103 (Dense)            (None, 92)                43148     \n",
      "_________________________________________________________________\n",
      "batch_normalization_76 (Batc (None, 92)                368       \n",
      "_________________________________________________________________\n",
      "dense_104 (Dense)            (None, 10)                930       \n",
      "=================================================================\n",
      "Total params: 413,698\n",
      "Trainable params: 412,578\n",
      "Non-trainable params: 1,120\n",
      "_________________________________________________________________\n",
      "Train on 60000 samples, validate on 10000 samples\n",
      "Epoch 1/25\n",
      "60000/60000 [==============================] - 11s 179us/step - loss: 0.1946 - acc: 0.9427 - val_loss: 0.1123 - val_acc: 0.9658\n",
      "Epoch 2/25\n",
      "60000/60000 [==============================] - 4s 62us/step - loss: 0.0741 - acc: 0.9776 - val_loss: 0.0973 - val_acc: 0.9697\n",
      "Epoch 3/25\n",
      "60000/60000 [==============================] - 4s 63us/step - loss: 0.0479 - acc: 0.9853 - val_loss: 0.0821 - val_acc: 0.9739\n",
      "Epoch 4/25\n",
      "60000/60000 [==============================] - 4s 63us/step - loss: 0.0355 - acc: 0.9889 - val_loss: 0.0804 - val_acc: 0.9733\n",
      "Epoch 5/25\n",
      "60000/60000 [==============================] - 4s 63us/step - loss: 0.0275 - acc: 0.9914 - val_loss: 0.0750 - val_acc: 0.9771\n",
      "Epoch 6/25\n",
      "60000/60000 [==============================] - 4s 64us/step - loss: 0.0224 - acc: 0.9926 - val_loss: 0.0824 - val_acc: 0.9768\n",
      "Epoch 7/25\n",
      "60000/60000 [==============================] - 4s 64us/step - loss: 0.0187 - acc: 0.9942 - val_loss: 0.0686 - val_acc: 0.9800\n",
      "Epoch 8/25\n",
      "60000/60000 [==============================] - 4s 64us/step - loss: 0.0158 - acc: 0.9947 - val_loss: 0.0760 - val_acc: 0.9786\n",
      "Epoch 9/25\n",
      "60000/60000 [==============================] - 4s 66us/step - loss: 0.0157 - acc: 0.9948 - val_loss: 0.0842 - val_acc: 0.9761\n",
      "Epoch 10/25\n",
      "60000/60000 [==============================] - 4s 63us/step - loss: 0.0129 - acc: 0.9959 - val_loss: 0.0801 - val_acc: 0.9790\n",
      "Epoch 11/25\n",
      "60000/60000 [==============================] - 4s 62us/step - loss: 0.0142 - acc: 0.9951 - val_loss: 0.0806 - val_acc: 0.9786\n",
      "Epoch 12/25\n",
      "60000/60000 [==============================] - 4s 64us/step - loss: 0.0107 - acc: 0.9965 - val_loss: 0.1068 - val_acc: 0.9710\n",
      "Epoch 13/25\n",
      "60000/60000 [==============================] - 4s 63us/step - loss: 0.0104 - acc: 0.9966 - val_loss: 0.0803 - val_acc: 0.9795\n",
      "Epoch 14/25\n",
      "60000/60000 [==============================] - 4s 62us/step - loss: 0.0108 - acc: 0.9963 - val_loss: 0.0773 - val_acc: 0.9798\n",
      "Epoch 15/25\n",
      "60000/60000 [==============================] - 4s 63us/step - loss: 0.0107 - acc: 0.9963 - val_loss: 0.0906 - val_acc: 0.9780\n",
      "Epoch 16/25\n",
      "60000/60000 [==============================] - 4s 61us/step - loss: 0.0085 - acc: 0.9971 - val_loss: 0.0785 - val_acc: 0.9801\n",
      "Epoch 17/25\n",
      "60000/60000 [==============================] - 4s 63us/step - loss: 0.0071 - acc: 0.9977 - val_loss: 0.0777 - val_acc: 0.9795\n",
      "Epoch 18/25\n",
      "60000/60000 [==============================] - 4s 62us/step - loss: 0.0068 - acc: 0.9978 - val_loss: 0.0877 - val_acc: 0.9794\n",
      "Epoch 19/25\n",
      "60000/60000 [==============================] - 4s 62us/step - loss: 0.0103 - acc: 0.9966 - val_loss: 0.0915 - val_acc: 0.9780\n",
      "Epoch 20/25\n",
      "60000/60000 [==============================] - 4s 62us/step - loss: 0.0085 - acc: 0.9971 - val_loss: 0.0836 - val_acc: 0.9807\n",
      "Epoch 21/25\n",
      "60000/60000 [==============================] - 4s 62us/step - loss: 0.0064 - acc: 0.9978 - val_loss: 0.0825 - val_acc: 0.9809\n",
      "Epoch 22/25\n",
      "60000/60000 [==============================] - 4s 62us/step - loss: 0.0063 - acc: 0.9981 - val_loss: 0.0915 - val_acc: 0.9779\n",
      "Epoch 23/25\n",
      "60000/60000 [==============================] - 4s 63us/step - loss: 0.0069 - acc: 0.9978 - val_loss: 0.0846 - val_acc: 0.9815\n",
      "Epoch 24/25\n",
      "60000/60000 [==============================] - 4s 62us/step - loss: 0.0050 - acc: 0.9983 - val_loss: 0.0810 - val_acc: 0.9811\n",
      "Epoch 25/25\n",
      "60000/60000 [==============================] - 4s 62us/step - loss: 0.0050 - acc: 0.9984 - val_loss: 0.0840 - val_acc: 0.9808\n",
      "Test score: 0.08396656601358045\n",
      "Test accuracy: 0.9808\n"
     ]
    },
    {
     "data": {
      "image/png": "[encoded data removed]",
      "text/plain": [
       "<Figure size 432x288 with 1 Axes>"
      ]
     },
     "metadata": {
      "tags": []
     },
     "output_type": "display_data"
    }
   ],
   "source": [
    "n_layers = [468,92]\n",
    "bn = 1\n",
    "nb_epoch = 25\n",
    "nn1(n_layers,bn)"
   ]
  },
  {
   "cell_type": "code",
   "execution_count": 0,
   "metadata": {
    "colab": {},
    "colab_type": "code",
    "id": "xIET13RCXEsF"
   },
   "outputs": [],
   "source": []
  },
  {
   "cell_type": "markdown",
   "metadata": {
    "colab_type": "text",
    "id": "wDZmWVPvXFmV"
   },
   "source": [
    "## Architecture with 3 hidden layers."
   ]
  },
  {
   "cell_type": "code",
   "execution_count": 71,
   "metadata": {
    "colab": {
     "base_uri": "https://localhost:8080/",
     "height": 1526
    },
    "colab_type": "code",
    "id": "8t_ZZ-77SYhq",
    "outputId": "d394309f-8052-412b-af1e-a82786cde4fc"
   },
   "outputs": [
    {
     "name": "stdout",
     "output_type": "stream",
     "text": [
      "_________________________________________________________________\n",
      "Layer (type)                 Output Shape              Param #   \n",
      "=================================================================\n",
      "dense_105 (Dense)            (None, 512)               401920    \n",
      "_________________________________________________________________\n",
      "batch_normalization_77 (Batc (None, 512)               2048      \n",
      "_________________________________________________________________\n",
      "dense_106 (Dense)            (None, 256)               131328    \n",
      "_________________________________________________________________\n",
      "batch_normalization_78 (Batc (None, 256)               1024      \n",
      "_________________________________________________________________\n",
      "dense_107 (Dense)            (None, 128)               32896     \n",
      "_________________________________________________________________\n",
      "batch_normalization_79 (Batc (None, 128)               512       \n",
      "_________________________________________________________________\n",
      "dense_108 (Dense)            (None, 10)                1290      \n",
      "=================================================================\n",
      "Total params: 571,018\n",
      "Trainable params: 569,226\n",
      "Non-trainable params: 1,792\n",
      "_________________________________________________________________\n",
      "Train on 60000 samples, validate on 10000 samples\n",
      "Epoch 1/25\n",
      "60000/60000 [==============================] - 12s 206us/step - loss: 0.1840 - acc: 0.9448 - val_loss: 0.0940 - val_acc: 0.9723\n",
      "Epoch 2/25\n",
      "60000/60000 [==============================] - 5s 75us/step - loss: 0.0713 - acc: 0.9782 - val_loss: 0.0816 - val_acc: 0.9743\n",
      "Epoch 3/25\n",
      "60000/60000 [==============================] - 5s 76us/step - loss: 0.0490 - acc: 0.9843 - val_loss: 0.0768 - val_acc: 0.9758\n",
      "Epoch 4/25\n",
      "60000/60000 [==============================] - 5s 78us/step - loss: 0.0337 - acc: 0.9889 - val_loss: 0.0822 - val_acc: 0.9742\n",
      "Epoch 5/25\n",
      "60000/60000 [==============================] - 5s 78us/step - loss: 0.0315 - acc: 0.9896 - val_loss: 0.0654 - val_acc: 0.9790\n",
      "Epoch 6/25\n",
      "60000/60000 [==============================] - 5s 75us/step - loss: 0.0259 - acc: 0.9912 - val_loss: 0.0749 - val_acc: 0.9788\n",
      "Epoch 7/25\n",
      "60000/60000 [==============================] - 4s 74us/step - loss: 0.0225 - acc: 0.9926 - val_loss: 0.0799 - val_acc: 0.9775\n",
      "Epoch 8/25\n",
      "60000/60000 [==============================] - 4s 74us/step - loss: 0.0221 - acc: 0.9928 - val_loss: 0.0714 - val_acc: 0.9797\n",
      "Epoch 9/25\n",
      "60000/60000 [==============================] - 4s 74us/step - loss: 0.0177 - acc: 0.9940 - val_loss: 0.0705 - val_acc: 0.9794\n",
      "Epoch 10/25\n",
      "60000/60000 [==============================] - 4s 74us/step - loss: 0.0149 - acc: 0.9950 - val_loss: 0.0785 - val_acc: 0.9805\n",
      "Epoch 11/25\n",
      "60000/60000 [==============================] - 5s 75us/step - loss: 0.0144 - acc: 0.9955 - val_loss: 0.0749 - val_acc: 0.9791\n",
      "Epoch 12/25\n",
      "60000/60000 [==============================] - 4s 74us/step - loss: 0.0121 - acc: 0.9963 - val_loss: 0.0975 - val_acc: 0.9752\n",
      "Epoch 13/25\n",
      "60000/60000 [==============================] - 4s 75us/step - loss: 0.0140 - acc: 0.9953 - val_loss: 0.0844 - val_acc: 0.9774\n",
      "Epoch 14/25\n",
      "60000/60000 [==============================] - 4s 74us/step - loss: 0.0136 - acc: 0.9956 - val_loss: 0.0776 - val_acc: 0.9794\n",
      "Epoch 15/25\n",
      "60000/60000 [==============================] - 5s 76us/step - loss: 0.0128 - acc: 0.9957 - val_loss: 0.0758 - val_acc: 0.9797\n",
      "Epoch 16/25\n",
      "60000/60000 [==============================] - 5s 79us/step - loss: 0.0090 - acc: 0.9970 - val_loss: 0.0780 - val_acc: 0.9799\n",
      "Epoch 17/25\n",
      "60000/60000 [==============================] - 4s 74us/step - loss: 0.0100 - acc: 0.9965 - val_loss: 0.0700 - val_acc: 0.9813\n",
      "Epoch 18/25\n",
      "60000/60000 [==============================] - 5s 76us/step - loss: 0.0103 - acc: 0.9969 - val_loss: 0.0693 - val_acc: 0.9827\n",
      "Epoch 19/25\n",
      "60000/60000 [==============================] - 5s 76us/step - loss: 0.0086 - acc: 0.9973 - val_loss: 0.0816 - val_acc: 0.9803\n",
      "Epoch 20/25\n",
      "60000/60000 [==============================] - 5s 77us/step - loss: 0.0072 - acc: 0.9977 - val_loss: 0.0727 - val_acc: 0.9808\n",
      "Epoch 21/25\n",
      "60000/60000 [==============================] - 4s 75us/step - loss: 0.0101 - acc: 0.9962 - val_loss: 0.0805 - val_acc: 0.9794\n",
      "Epoch 22/25\n",
      "60000/60000 [==============================] - 4s 74us/step - loss: 0.0103 - acc: 0.9967 - val_loss: 0.0792 - val_acc: 0.9807\n",
      "Epoch 23/25\n",
      "60000/60000 [==============================] - 4s 75us/step - loss: 0.0069 - acc: 0.9977 - val_loss: 0.0770 - val_acc: 0.9819\n",
      "Epoch 24/25\n",
      "60000/60000 [==============================] - 4s 75us/step - loss: 0.0060 - acc: 0.9981 - val_loss: 0.0712 - val_acc: 0.9832\n",
      "Epoch 25/25\n",
      "60000/60000 [==============================] - 4s 75us/step - loss: 0.0058 - acc: 0.9981 - val_loss: 0.0723 - val_acc: 0.9833\n",
      "Test score: 0.07232702655499207\n",
      "Test accuracy: 0.9833\n"
     ]
    },
    {
     "data": {
      "image/png": "[encoded data removed]",
      "text/plain": [
       "<Figure size 432x288 with 1 Axes>"
      ]
     },
     "metadata": {
      "tags": []
     },
     "output_type": "display_data"
    }
   ],
   "source": [
    "n_layers = [512,256,128]\n",
    "bn=1\n",
    "nb_epoch = 25\n",
    "nn1(n_layers,bn)"
   ]
  },
  {
   "cell_type": "markdown",
   "metadata": {
    "colab_type": "text",
    "id": "JtEQ8BwSXYXJ"
   },
   "source": [
    "## Architecture with 5 hidden layers."
   ]
  },
  {
   "cell_type": "code",
   "execution_count": 72,
   "metadata": {
    "colab": {
     "base_uri": "https://localhost:8080/",
     "height": 1661
    },
    "colab_type": "code",
    "id": "PKhUpCF3XeyM",
    "outputId": "277f57ea-dc89-4eae-ef28-1a7117545c3d"
   },
   "outputs": [
    {
     "name": "stdout",
     "output_type": "stream",
     "text": [
      "_________________________________________________________________\n",
      "Layer (type)                 Output Shape              Param #   \n",
      "=================================================================\n",
      "dense_109 (Dense)            (None, 650)               510250    \n",
      "_________________________________________________________________\n",
      "batch_normalization_80 (Batc (None, 650)               2600      \n",
      "_________________________________________________________________\n",
      "dense_110 (Dense)            (None, 520)               338520    \n",
      "_________________________________________________________________\n",
      "batch_normalization_81 (Batc (None, 520)               2080      \n",
      "_________________________________________________________________\n",
      "dense_111 (Dense)            (None, 410)               213610    \n",
      "_________________________________________________________________\n",
      "batch_normalization_82 (Batc (None, 410)               1640      \n",
      "_________________________________________________________________\n",
      "dense_112 (Dense)            (None, 290)               119190    \n",
      "_________________________________________________________________\n",
      "batch_normalization_83 (Batc (None, 290)               1160      \n",
      "_________________________________________________________________\n",
      "dense_113 (Dense)            (None, 125)               36375     \n",
      "_________________________________________________________________\n",
      "batch_normalization_84 (Batc (None, 125)               500       \n",
      "_________________________________________________________________\n",
      "dense_114 (Dense)            (None, 10)                1260      \n",
      "=================================================================\n",
      "Total params: 1,227,185\n",
      "Trainable params: 1,223,195\n",
      "Non-trainable params: 3,990\n",
      "_________________________________________________________________\n",
      "Train on 60000 samples, validate on 10000 samples\n",
      "Epoch 1/25\n",
      "60000/60000 [==============================] - 15s 242us/step - loss: 0.1877 - acc: 0.9439 - val_loss: 0.1093 - val_acc: 0.9655\n",
      "Epoch 2/25\n",
      "60000/60000 [==============================] - 6s 102us/step - loss: 0.0808 - acc: 0.9746 - val_loss: 0.0966 - val_acc: 0.9704\n",
      "Epoch 3/25\n",
      "60000/60000 [==============================] - 6s 100us/step - loss: 0.0581 - acc: 0.9813 - val_loss: 0.0948 - val_acc: 0.9702\n",
      "Epoch 4/25\n",
      "60000/60000 [==============================] - 6s 103us/step - loss: 0.0460 - acc: 0.9852 - val_loss: 0.0991 - val_acc: 0.9713\n",
      "Epoch 5/25\n",
      "60000/60000 [==============================] - 6s 103us/step - loss: 0.0400 - acc: 0.9869 - val_loss: 0.1108 - val_acc: 0.9690\n",
      "Epoch 6/25\n",
      "60000/60000 [==============================] - 6s 104us/step - loss: 0.0360 - acc: 0.9882 - val_loss: 0.0837 - val_acc: 0.9757\n",
      "Epoch 7/25\n",
      "60000/60000 [==============================] - 6s 104us/step - loss: 0.0323 - acc: 0.9894 - val_loss: 0.0894 - val_acc: 0.9754\n",
      "Epoch 8/25\n",
      "60000/60000 [==============================] - 6s 104us/step - loss: 0.0270 - acc: 0.9909 - val_loss: 0.0983 - val_acc: 0.9738\n",
      "Epoch 9/25\n",
      "60000/60000 [==============================] - 6s 102us/step - loss: 0.0256 - acc: 0.9915 - val_loss: 0.0778 - val_acc: 0.9779\n",
      "Epoch 10/25\n",
      "60000/60000 [==============================] - 6s 102us/step - loss: 0.0220 - acc: 0.9927 - val_loss: 0.0901 - val_acc: 0.9750\n",
      "Epoch 11/25\n",
      "60000/60000 [==============================] - 6s 103us/step - loss: 0.0245 - acc: 0.9918 - val_loss: 0.0742 - val_acc: 0.9802\n",
      "Epoch 12/25\n",
      "60000/60000 [==============================] - 6s 102us/step - loss: 0.0215 - acc: 0.9928 - val_loss: 0.0847 - val_acc: 0.9776\n",
      "Epoch 13/25\n",
      "60000/60000 [==============================] - 6s 102us/step - loss: 0.0221 - acc: 0.9928 - val_loss: 0.0674 - val_acc: 0.9823\n",
      "Epoch 14/25\n",
      "60000/60000 [==============================] - 6s 101us/step - loss: 0.0140 - acc: 0.9954 - val_loss: 0.0707 - val_acc: 0.9804\n",
      "Epoch 15/25\n",
      "60000/60000 [==============================] - 6s 101us/step - loss: 0.0177 - acc: 0.9939 - val_loss: 0.0790 - val_acc: 0.9785\n",
      "Epoch 16/25\n",
      "60000/60000 [==============================] - 6s 101us/step - loss: 0.0178 - acc: 0.9941 - val_loss: 0.0697 - val_acc: 0.9808\n",
      "Epoch 17/25\n",
      "60000/60000 [==============================] - 6s 102us/step - loss: 0.0124 - acc: 0.9960 - val_loss: 0.0671 - val_acc: 0.9825\n",
      "Epoch 18/25\n",
      "60000/60000 [==============================] - 6s 102us/step - loss: 0.0142 - acc: 0.9955 - val_loss: 0.0655 - val_acc: 0.9828\n",
      "Epoch 19/25\n",
      "60000/60000 [==============================] - 6s 102us/step - loss: 0.0140 - acc: 0.9953 - val_loss: 0.0694 - val_acc: 0.9826\n",
      "Epoch 20/25\n",
      "60000/60000 [==============================] - 6s 103us/step - loss: 0.0139 - acc: 0.9953 - val_loss: 0.0748 - val_acc: 0.9817\n",
      "Epoch 21/25\n",
      "60000/60000 [==============================] - 6s 104us/step - loss: 0.0121 - acc: 0.9957 - val_loss: 0.0845 - val_acc: 0.9799\n",
      "Epoch 22/25\n",
      "60000/60000 [==============================] - 6s 100us/step - loss: 0.0104 - acc: 0.9966 - val_loss: 0.0748 - val_acc: 0.9830\n",
      "Epoch 23/25\n",
      "60000/60000 [==============================] - 6s 101us/step - loss: 0.0113 - acc: 0.9963 - val_loss: 0.0728 - val_acc: 0.9816\n",
      "Epoch 24/25\n",
      "60000/60000 [==============================] - 6s 99us/step - loss: 0.0116 - acc: 0.9962 - val_loss: 0.0744 - val_acc: 0.9825\n",
      "Epoch 25/25\n",
      "60000/60000 [==============================] - 6s 101us/step - loss: 0.0093 - acc: 0.9972 - val_loss: 0.0698 - val_acc: 0.9840\n",
      "Test score: 0.06976913923782413\n",
      "Test accuracy: 0.984\n"
     ]
    },
    {
     "data": {
      "image/png": "[encoded data removed]",
      "text/plain": [
       "<Figure size 432x288 with 1 Axes>"
      ]
     },
     "metadata": {
      "tags": []
     },
     "output_type": "display_data"
    }
   ],
   "source": [
    "n_layers = [650,520,410,290,125]\n",
    "bn=1\n",
    "nb_epoch = 25\n",
    "nn1(n_layers,bn)"
   ]
  },
  {
   "cell_type": "markdown",
   "metadata": {
    "colab_type": "text",
    "id": "F2QaPXOvXmzc"
   },
   "source": [
    "# Defining a function for model with no dropout and no batch normalisation. "
   ]
  },
  {
   "cell_type": "code",
   "execution_count": 0,
   "metadata": {
    "colab": {},
    "colab_type": "code",
    "id": "Bnc2xvUkX4_0"
   },
   "outputs": [],
   "source": [
    "# https://stackoverflow.com/questions/34716454/where-do-i-call-the-batchnormalization-function-in-keras\n",
    "\n",
    "\n",
    "def nn2(n_layers):\n",
    "  model = Sequential()\n",
    "  model.add(Dense(n_layers[0], activation='relu', input_shape=(input_dim,), kernel_initializer=K.he_normal(seed=None)))\n",
    "  for i in range(len(n_layers)-1):\n",
    "      model.add(Dense(n_layers[i+1], activation='relu',kernel_initializer=K.he_normal(seed=None)) )\n",
    "    \n",
    "\n",
    "  model.add(Dense(output_dim, activation='softmax'))\n",
    "\n",
    "\n",
    "  model.summary()\n",
    "\n",
    "\n",
    "  model.compile(optimizer='adam', loss='categorical_crossentropy', metrics=['accuracy'])\n",
    "\n",
    "  history = model.fit(X_train, Y_train, batch_size=batch_size, epochs=nb_epoch, verbose=1, validation_data=(X_test, Y_test))\n",
    "\n",
    "\n",
    "  %matplotlib inline\n",
    "  score = model.evaluate(X_test, Y_test, verbose=0) \n",
    "  print('Test score:', score[0]) \n",
    "  print('Test accuracy:', score[1])\n",
    "\n",
    "  fig,ax = plt.subplots(1,1)\n",
    "  ax.set_xlabel('epoch') ; ax.set_ylabel('Categorical Crossentropy Loss')\n",
    "\n",
    "  # list of epoch numbers\n",
    "  x = list(range(1,nb_epoch+1))\n",
    "\n",
    "   #dict_keys(['val_loss', 'val_acc', 'loss', 'acc'])\n",
    "  # history = model_drop.fit(X_train, Y_train, batch_size=batch_size, epochs=nb_epoch, verbose=1, validation_data=(X_test, Y_test))\n",
    "\n",
    "  # we will get val_loss and val_acc only when you pass the paramter validation_data\n",
    "  # val_loss : validation loss\n",
    "  # val_acc : validation accuracy\n",
    "\n",
    "  # loss : training loss\n",
    "  # acc : train accuracy\n",
    "  # for each key in histrory.histrory we will have a list of length equal to number of epochs\n",
    "  vy = history.history['val_loss']\n",
    "  ty = history.history['loss']\n",
    "  plt_dynamic(x, vy, ty, ax)"
   ]
  },
  {
   "cell_type": "markdown",
   "metadata": {
    "colab_type": "text",
    "id": "vcP5dX5lXvmB"
   },
   "source": [
    "### Architecture with 2 hidden layers."
   ]
  },
  {
   "cell_type": "code",
   "execution_count": 75,
   "metadata": {
    "colab": {
     "base_uri": "https://localhost:8080/",
     "height": 1392
    },
    "colab_type": "code",
    "id": "NwJ3XeyxYMRB",
    "outputId": "e2ed02f1-6eca-4afc-e56c-edb2fcdc0e94"
   },
   "outputs": [
    {
     "name": "stdout",
     "output_type": "stream",
     "text": [
      "_________________________________________________________________\n",
      "Layer (type)                 Output Shape              Param #   \n",
      "=================================================================\n",
      "dense_115 (Dense)            (None, 468)               367380    \n",
      "_________________________________________________________________\n",
      "dense_116 (Dense)            (None, 92)                43148     \n",
      "_________________________________________________________________\n",
      "dense_117 (Dense)            (None, 10)                930       \n",
      "=================================================================\n",
      "Total params: 411,458\n",
      "Trainable params: 411,458\n",
      "Non-trainable params: 0\n",
      "_________________________________________________________________\n",
      "Train on 60000 samples, validate on 10000 samples\n",
      "Epoch 1/25\n",
      "60000/60000 [==============================] - 10s 170us/step - loss: 0.2425 - acc: 0.9295 - val_loss: 0.1191 - val_acc: 0.9623\n",
      "Epoch 2/25\n",
      "60000/60000 [==============================] - 3s 42us/step - loss: 0.0907 - acc: 0.9724 - val_loss: 0.0864 - val_acc: 0.9715\n",
      "Epoch 3/25\n",
      "60000/60000 [==============================] - 3s 42us/step - loss: 0.0576 - acc: 0.9822 - val_loss: 0.0717 - val_acc: 0.9771\n",
      "Epoch 4/25\n",
      "60000/60000 [==============================] - 3s 42us/step - loss: 0.0402 - acc: 0.9878 - val_loss: 0.0806 - val_acc: 0.9742\n",
      "Epoch 5/25\n",
      "60000/60000 [==============================] - 3s 42us/step - loss: 0.0292 - acc: 0.9905 - val_loss: 0.0671 - val_acc: 0.9804\n",
      "Epoch 6/25\n",
      "60000/60000 [==============================] - 3s 43us/step - loss: 0.0203 - acc: 0.9936 - val_loss: 0.0649 - val_acc: 0.9793\n",
      "Epoch 7/25\n",
      "60000/60000 [==============================] - 3s 42us/step - loss: 0.0169 - acc: 0.9944 - val_loss: 0.0843 - val_acc: 0.9762\n",
      "Epoch 8/25\n",
      "60000/60000 [==============================] - 3s 42us/step - loss: 0.0148 - acc: 0.9951 - val_loss: 0.0708 - val_acc: 0.9812\n",
      "Epoch 9/25\n",
      "60000/60000 [==============================] - 3s 42us/step - loss: 0.0126 - acc: 0.9960 - val_loss: 0.0811 - val_acc: 0.9805\n",
      "Epoch 10/25\n",
      "60000/60000 [==============================] - 3s 42us/step - loss: 0.0124 - acc: 0.9958 - val_loss: 0.0660 - val_acc: 0.9823\n",
      "Epoch 11/25\n",
      "60000/60000 [==============================] - 3s 44us/step - loss: 0.0095 - acc: 0.9969 - val_loss: 0.0729 - val_acc: 0.9804\n",
      "Epoch 12/25\n",
      "60000/60000 [==============================] - 3s 44us/step - loss: 0.0097 - acc: 0.9968 - val_loss: 0.0793 - val_acc: 0.9795\n",
      "Epoch 13/25\n",
      "60000/60000 [==============================] - 3s 44us/step - loss: 0.0089 - acc: 0.9971 - val_loss: 0.0791 - val_acc: 0.9802\n",
      "Epoch 14/25\n",
      "60000/60000 [==============================] - 3s 44us/step - loss: 0.0093 - acc: 0.9969 - val_loss: 0.0717 - val_acc: 0.9841\n",
      "Epoch 15/25\n",
      "60000/60000 [==============================] - 3s 42us/step - loss: 0.0089 - acc: 0.9971 - val_loss: 0.0785 - val_acc: 0.9817\n",
      "Epoch 16/25\n",
      "60000/60000 [==============================] - 3s 43us/step - loss: 0.0064 - acc: 0.9980 - val_loss: 0.0818 - val_acc: 0.9816\n",
      "Epoch 17/25\n",
      "60000/60000 [==============================] - 3s 42us/step - loss: 0.0044 - acc: 0.9986 - val_loss: 0.0881 - val_acc: 0.9815\n",
      "Epoch 18/25\n",
      "60000/60000 [==============================] - 2s 41us/step - loss: 0.0056 - acc: 0.9981 - val_loss: 0.0877 - val_acc: 0.9805\n",
      "Epoch 19/25\n",
      "60000/60000 [==============================] - 3s 42us/step - loss: 0.0101 - acc: 0.9967 - val_loss: 0.0932 - val_acc: 0.9799\n",
      "Epoch 20/25\n",
      "60000/60000 [==============================] - 3s 42us/step - loss: 0.0055 - acc: 0.9979 - val_loss: 0.0808 - val_acc: 0.9823\n",
      "Epoch 21/25\n",
      "60000/60000 [==============================] - 3s 42us/step - loss: 0.0055 - acc: 0.9981 - val_loss: 0.1107 - val_acc: 0.9795\n",
      "Epoch 22/25\n",
      "60000/60000 [==============================] - 3s 42us/step - loss: 0.0074 - acc: 0.9978 - val_loss: 0.0886 - val_acc: 0.9825\n",
      "Epoch 23/25\n",
      "60000/60000 [==============================] - 2s 42us/step - loss: 0.0042 - acc: 0.9986 - val_loss: 0.0980 - val_acc: 0.9817\n",
      "Epoch 24/25\n",
      "60000/60000 [==============================] - 3s 42us/step - loss: 0.0082 - acc: 0.9974 - val_loss: 0.0996 - val_acc: 0.9810\n",
      "Epoch 25/25\n",
      "60000/60000 [==============================] - 3s 42us/step - loss: 0.0065 - acc: 0.9978 - val_loss: 0.0998 - val_acc: 0.9807\n",
      "Test score: 0.09983180044603286\n",
      "Test accuracy: 0.9807\n"
     ]
    },
    {
     "data": {
      "image/png": "[encoded data removed]",
      "text/plain": [
       "<Figure size 432x288 with 1 Axes>"
      ]
     },
     "metadata": {
      "tags": []
     },
     "output_type": "display_data"
    }
   ],
   "source": [
    "n_layers = [468,92]\n",
    "nb_epoch = 25\n",
    "nn2(n_layers)"
   ]
  },
  {
   "cell_type": "markdown",
   "metadata": {
    "colab_type": "text",
    "id": "HXQrj7vsYUCN"
   },
   "source": [
    "## Architecture with 3 hidden layers"
   ]
  },
  {
   "cell_type": "code",
   "execution_count": 76,
   "metadata": {
    "colab": {
     "base_uri": "https://localhost:8080/",
     "height": 1426
    },
    "colab_type": "code",
    "id": "OuOr-2VSYYMd",
    "outputId": "cc227ce7-df1b-4bff-d9d1-d44b1d70d9fd"
   },
   "outputs": [
    {
     "name": "stdout",
     "output_type": "stream",
     "text": [
      "_________________________________________________________________\n",
      "Layer (type)                 Output Shape              Param #   \n",
      "=================================================================\n",
      "dense_118 (Dense)            (None, 512)               401920    \n",
      "_________________________________________________________________\n",
      "dense_119 (Dense)            (None, 256)               131328    \n",
      "_________________________________________________________________\n",
      "dense_120 (Dense)            (None, 128)               32896     \n",
      "_________________________________________________________________\n",
      "dense_121 (Dense)            (None, 10)                1290      \n",
      "=================================================================\n",
      "Total params: 567,434\n",
      "Trainable params: 567,434\n",
      "Non-trainable params: 0\n",
      "_________________________________________________________________\n",
      "Train on 60000 samples, validate on 10000 samples\n",
      "Epoch 1/25\n",
      "60000/60000 [==============================] - 11s 180us/step - loss: 0.2199 - acc: 0.9339 - val_loss: 0.1075 - val_acc: 0.9663\n",
      "Epoch 2/25\n",
      "60000/60000 [==============================] - 3s 46us/step - loss: 0.0813 - acc: 0.9754 - val_loss: 0.0753 - val_acc: 0.9759\n",
      "Epoch 3/25\n",
      "60000/60000 [==============================] - 3s 45us/step - loss: 0.0528 - acc: 0.9829 - val_loss: 0.0790 - val_acc: 0.9758\n",
      "Epoch 4/25\n",
      "60000/60000 [==============================] - 3s 44us/step - loss: 0.0376 - acc: 0.9877 - val_loss: 0.0776 - val_acc: 0.9782\n",
      "Epoch 5/25\n",
      "60000/60000 [==============================] - 3s 45us/step - loss: 0.0279 - acc: 0.9910 - val_loss: 0.0678 - val_acc: 0.9820\n",
      "Epoch 6/25\n",
      "60000/60000 [==============================] - 3s 45us/step - loss: 0.0254 - acc: 0.9915 - val_loss: 0.0735 - val_acc: 0.9782\n",
      "Epoch 7/25\n",
      "60000/60000 [==============================] - 3s 45us/step - loss: 0.0205 - acc: 0.9932 - val_loss: 0.0692 - val_acc: 0.9803\n",
      "Epoch 8/25\n",
      "60000/60000 [==============================] - 3s 45us/step - loss: 0.0166 - acc: 0.9945 - val_loss: 0.0792 - val_acc: 0.9813\n",
      "Epoch 9/25\n",
      "60000/60000 [==============================] - 3s 45us/step - loss: 0.0181 - acc: 0.9941 - val_loss: 0.0903 - val_acc: 0.9769\n",
      "Epoch 10/25\n",
      "60000/60000 [==============================] - 3s 45us/step - loss: 0.0171 - acc: 0.9942 - val_loss: 0.0764 - val_acc: 0.9814\n",
      "Epoch 11/25\n",
      "60000/60000 [==============================] - 3s 46us/step - loss: 0.0135 - acc: 0.9956 - val_loss: 0.0774 - val_acc: 0.9820\n",
      "Epoch 12/25\n",
      "60000/60000 [==============================] - 3s 46us/step - loss: 0.0135 - acc: 0.9957 - val_loss: 0.1065 - val_acc: 0.9751\n",
      "Epoch 13/25\n",
      "60000/60000 [==============================] - 3s 47us/step - loss: 0.0116 - acc: 0.9965 - val_loss: 0.0863 - val_acc: 0.9799\n",
      "Epoch 14/25\n",
      "60000/60000 [==============================] - 3s 47us/step - loss: 0.0130 - acc: 0.9957 - val_loss: 0.0834 - val_acc: 0.9810\n",
      "Epoch 15/25\n",
      "60000/60000 [==============================] - 3s 46us/step - loss: 0.0095 - acc: 0.9970 - val_loss: 0.0989 - val_acc: 0.9789\n",
      "Epoch 16/25\n",
      "60000/60000 [==============================] - 3s 45us/step - loss: 0.0111 - acc: 0.9965 - val_loss: 0.0798 - val_acc: 0.9833\n",
      "Epoch 17/25\n",
      "60000/60000 [==============================] - 3s 45us/step - loss: 0.0097 - acc: 0.9970 - val_loss: 0.0855 - val_acc: 0.9826\n",
      "Epoch 18/25\n",
      "60000/60000 [==============================] - 3s 45us/step - loss: 0.0080 - acc: 0.9974 - val_loss: 0.1211 - val_acc: 0.9761\n",
      "Epoch 19/25\n",
      "60000/60000 [==============================] - 3s 45us/step - loss: 0.0106 - acc: 0.9968 - val_loss: 0.0872 - val_acc: 0.9811\n",
      "Epoch 20/25\n",
      "60000/60000 [==============================] - 3s 45us/step - loss: 0.0072 - acc: 0.9980 - val_loss: 0.0770 - val_acc: 0.9835\n",
      "Epoch 21/25\n",
      "60000/60000 [==============================] - 3s 45us/step - loss: 0.0082 - acc: 0.9976 - val_loss: 0.1021 - val_acc: 0.9802\n",
      "Epoch 22/25\n",
      "60000/60000 [==============================] - 3s 45us/step - loss: 0.0088 - acc: 0.9974 - val_loss: 0.0768 - val_acc: 0.9821\n",
      "Epoch 23/25\n",
      "60000/60000 [==============================] - 3s 45us/step - loss: 0.0065 - acc: 0.9981 - val_loss: 0.0886 - val_acc: 0.9815\n",
      "Epoch 24/25\n",
      "60000/60000 [==============================] - 3s 45us/step - loss: 0.0093 - acc: 0.9973 - val_loss: 0.0949 - val_acc: 0.9824\n",
      "Epoch 25/25\n",
      "60000/60000 [==============================] - 3s 45us/step - loss: 0.0072 - acc: 0.9979 - val_loss: 0.0933 - val_acc: 0.9814\n",
      "Test score: 0.0932893890325599\n",
      "Test accuracy: 0.9814\n"
     ]
    },
    {
     "data": {
      "image/png": "[encoded data removed]",
      "text/plain": [
       "<Figure size 432x288 with 1 Axes>"
      ]
     },
     "metadata": {
      "tags": []
     },
     "output_type": "display_data"
    }
   ],
   "source": [
    "n_layers = [512,256,128]\n",
    "nb_epoch = 25\n",
    "nn2(n_layers)"
   ]
  },
  {
   "cell_type": "markdown",
   "metadata": {
    "colab_type": "text",
    "id": "VjlisUjaYgn3"
   },
   "source": [
    "## Architecture with 5 hidden layers."
   ]
  },
  {
   "cell_type": "code",
   "execution_count": 77,
   "metadata": {
    "colab": {
     "base_uri": "https://localhost:8080/",
     "height": 1493
    },
    "colab_type": "code",
    "id": "SQgOzyqzYuD7",
    "outputId": "ffe93e5c-96ae-4fe1-9358-cce20c4f8e9e"
   },
   "outputs": [
    {
     "name": "stdout",
     "output_type": "stream",
     "text": [
      "_________________________________________________________________\n",
      "Layer (type)                 Output Shape              Param #   \n",
      "=================================================================\n",
      "dense_122 (Dense)            (None, 650)               510250    \n",
      "_________________________________________________________________\n",
      "dense_123 (Dense)            (None, 520)               338520    \n",
      "_________________________________________________________________\n",
      "dense_124 (Dense)            (None, 410)               213610    \n",
      "_________________________________________________________________\n",
      "dense_125 (Dense)            (None, 290)               119190    \n",
      "_________________________________________________________________\n",
      "dense_126 (Dense)            (None, 125)               36375     \n",
      "_________________________________________________________________\n",
      "dense_127 (Dense)            (None, 10)                1260      \n",
      "=================================================================\n",
      "Total params: 1,219,205\n",
      "Trainable params: 1,219,205\n",
      "Non-trainable params: 0\n",
      "_________________________________________________________________\n",
      "Train on 60000 samples, validate on 10000 samples\n",
      "Epoch 1/25\n",
      "60000/60000 [==============================] - 11s 190us/step - loss: 0.2114 - acc: 0.9360 - val_loss: 0.1252 - val_acc: 0.9629\n",
      "Epoch 2/25\n",
      "60000/60000 [==============================] - 3s 53us/step - loss: 0.0887 - acc: 0.9726 - val_loss: 0.1025 - val_acc: 0.9679\n",
      "Epoch 3/25\n",
      "60000/60000 [==============================] - 3s 53us/step - loss: 0.0605 - acc: 0.9813 - val_loss: 0.0937 - val_acc: 0.9733\n",
      "Epoch 4/25\n",
      "60000/60000 [==============================] - 3s 52us/step - loss: 0.0463 - acc: 0.9858 - val_loss: 0.0889 - val_acc: 0.9741\n",
      "Epoch 5/25\n",
      "60000/60000 [==============================] - 3s 52us/step - loss: 0.0388 - acc: 0.9880 - val_loss: 0.0817 - val_acc: 0.9786\n",
      "Epoch 6/25\n",
      "60000/60000 [==============================] - 3s 53us/step - loss: 0.0342 - acc: 0.9895 - val_loss: 0.0957 - val_acc: 0.9748\n",
      "Epoch 7/25\n",
      "60000/60000 [==============================] - 3s 52us/step - loss: 0.0268 - acc: 0.9914 - val_loss: 0.0845 - val_acc: 0.9781\n",
      "Epoch 8/25\n",
      "60000/60000 [==============================] - 3s 53us/step - loss: 0.0274 - acc: 0.9916 - val_loss: 0.1066 - val_acc: 0.9745\n",
      "Epoch 9/25\n",
      "60000/60000 [==============================] - 3s 52us/step - loss: 0.0248 - acc: 0.9923 - val_loss: 0.0737 - val_acc: 0.9795\n",
      "Epoch 10/25\n",
      "60000/60000 [==============================] - 3s 52us/step - loss: 0.0196 - acc: 0.9942 - val_loss: 0.0865 - val_acc: 0.9828\n",
      "Epoch 11/25\n",
      "60000/60000 [==============================] - 3s 52us/step - loss: 0.0189 - acc: 0.9944 - val_loss: 0.0886 - val_acc: 0.9805\n",
      "Epoch 12/25\n",
      "60000/60000 [==============================] - 3s 54us/step - loss: 0.0167 - acc: 0.9952 - val_loss: 0.0829 - val_acc: 0.9817\n",
      "Epoch 13/25\n",
      "60000/60000 [==============================] - 3s 53us/step - loss: 0.0177 - acc: 0.9949 - val_loss: 0.0913 - val_acc: 0.9810\n",
      "Epoch 14/25\n",
      "60000/60000 [==============================] - 3s 53us/step - loss: 0.0155 - acc: 0.9952 - val_loss: 0.1293 - val_acc: 0.9765\n",
      "Epoch 15/25\n",
      "60000/60000 [==============================] - 3s 54us/step - loss: 0.0170 - acc: 0.9951 - val_loss: 0.0808 - val_acc: 0.9813\n",
      "Epoch 16/25\n",
      "60000/60000 [==============================] - 3s 52us/step - loss: 0.0130 - acc: 0.9966 - val_loss: 0.0825 - val_acc: 0.9834\n",
      "Epoch 17/25\n",
      "60000/60000 [==============================] - 3s 53us/step - loss: 0.0110 - acc: 0.9970 - val_loss: 0.1052 - val_acc: 0.9810\n",
      "Epoch 18/25\n",
      "60000/60000 [==============================] - 3s 53us/step - loss: 0.0169 - acc: 0.9951 - val_loss: 0.0840 - val_acc: 0.9838\n",
      "Epoch 19/25\n",
      "60000/60000 [==============================] - 3s 52us/step - loss: 0.0090 - acc: 0.9973 - val_loss: 0.1161 - val_acc: 0.9791\n",
      "Epoch 20/25\n",
      "60000/60000 [==============================] - 3s 52us/step - loss: 0.0137 - acc: 0.9965 - val_loss: 0.0872 - val_acc: 0.9808\n",
      "Epoch 21/25\n",
      "60000/60000 [==============================] - 3s 52us/step - loss: 0.0143 - acc: 0.9960 - val_loss: 0.1006 - val_acc: 0.9821\n",
      "Epoch 22/25\n",
      "60000/60000 [==============================] - 3s 52us/step - loss: 0.0103 - acc: 0.9974 - val_loss: 0.0897 - val_acc: 0.9844\n",
      "Epoch 23/25\n",
      "60000/60000 [==============================] - 3s 52us/step - loss: 0.0088 - acc: 0.9975 - val_loss: 0.0933 - val_acc: 0.9835\n",
      "Epoch 24/25\n",
      "60000/60000 [==============================] - 3s 52us/step - loss: 0.0088 - acc: 0.9976 - val_loss: 0.0950 - val_acc: 0.9823\n",
      "Epoch 25/25\n",
      "60000/60000 [==============================] - 3s 53us/step - loss: 0.0095 - acc: 0.9972 - val_loss: 0.1317 - val_acc: 0.9788\n",
      "Test score: 0.13170449254391386\n",
      "Test accuracy: 0.9788\n"
     ]
    },
    {
     "data": {
      "image/png": "[encoded data removed]",
      "text/plain": [
       "<Figure size 432x288 with 1 Axes>"
      ]
     },
     "metadata": {
      "tags": []
     },
     "output_type": "display_data"
    }
   ],
   "source": [
    "n_layers = [650,520,410,290,125]\n",
    "nb_epoch = 25\n",
    "nn2(n_layers)"
   ]
  },
  {
   "cell_type": "markdown",
   "metadata": {
    "colab_type": "text",
    "id": "l65N5U2canoY"
   },
   "source": [
    "# Defining a function for model with dropout and no batch normalisation. "
   ]
  },
  {
   "cell_type": "code",
   "execution_count": 0,
   "metadata": {
    "colab": {},
    "colab_type": "code",
    "id": "7kfwD44qasm_"
   },
   "outputs": [],
   "source": [
    "# https://stackoverflow.com/questions/34716454/where-do-i-call-the-batchnormalization-function-in-keras\n",
    "\n",
    "\n",
    "def nn3(n_layers,d):\n",
    "  model = Sequential()\n",
    "\n",
    "  model.add(Dense(n_layers[0], activation='relu', input_shape=(input_dim,), kernel_initializer=K.he_normal(seed=None)))\n",
    "  model.add(Dropout(d[0]))\n",
    "\n",
    "  for i in range(len(n_layers)-1):\n",
    "    model.add(Dense(n_layers[i+1], activation='relu',kernel_initializer=K.he_normal(seed=None)) )\n",
    "    model.add(Dropout(d[i+1]))\n",
    "\n",
    "  model.add(Dense(output_dim, activation='softmax'))\n",
    "\n",
    "\n",
    "  model.summary()\n",
    "\n",
    "\n",
    "  model.compile(optimizer='adam', loss='categorical_crossentropy', metrics=['accuracy'])\n",
    "\n",
    "  history = model.fit(X_train, Y_train, batch_size=batch_size, epochs=nb_epoch, verbose=1, validation_data=(X_test, Y_test))\n",
    "\n",
    "\n",
    "  %matplotlib inline\n",
    "  score = model.evaluate(X_test, Y_test, verbose=0) \n",
    "  print('Test score:', score[0]) \n",
    "  print('Test accuracy:', score[1])\n",
    "\n",
    "  fig,ax = plt.subplots(1,1)\n",
    "  ax.set_xlabel('epoch') ; ax.set_ylabel('Categorical Crossentropy Loss')\n",
    "\n",
    "  # list of epoch numbers\n",
    "  x = list(range(1,nb_epoch+1))\n",
    "\n",
    "   #dict_keys(['val_loss', 'val_acc', 'loss', 'acc'])\n",
    "  # history = model_drop.fit(X_train, Y_train, batch_size=batch_size, epochs=nb_epoch, verbose=1, validation_data=(X_test, Y_test))\n",
    "\n",
    "  # we will get val_loss and val_acc only when you pass the paramter validation_data\n",
    "  # val_loss : validation loss\n",
    "  # val_acc : validation accuracy\n",
    "\n",
    "  # loss : training loss\n",
    "  # acc : train accuracy\n",
    "  # for each key in histrory.histrory we will have a list of length equal to number of epochs\n",
    "  vy = history.history['val_loss']\n",
    "  ty = history.history['loss']\n",
    "  plt_dynamic(x, vy, ty, ax)"
   ]
  },
  {
   "cell_type": "markdown",
   "metadata": {
    "colab_type": "text",
    "id": "4fWrfUfibqjY"
   },
   "source": [
    "# Architecture with 3 hidden layers."
   ]
  },
  {
   "cell_type": "code",
   "execution_count": 81,
   "metadata": {
    "colab": {
     "base_uri": "https://localhost:8080/",
     "height": 1526
    },
    "colab_type": "code",
    "id": "ApajVq-qa9nm",
    "outputId": "e3d10d11-4b1a-4dcb-f669-74f502a33b85"
   },
   "outputs": [
    {
     "name": "stdout",
     "output_type": "stream",
     "text": [
      "_________________________________________________________________\n",
      "Layer (type)                 Output Shape              Param #   \n",
      "=================================================================\n",
      "dense_135 (Dense)            (None, 512)               401920    \n",
      "_________________________________________________________________\n",
      "dropout_70 (Dropout)         (None, 512)               0         \n",
      "_________________________________________________________________\n",
      "dense_136 (Dense)            (None, 256)               131328    \n",
      "_________________________________________________________________\n",
      "dropout_71 (Dropout)         (None, 256)               0         \n",
      "_________________________________________________________________\n",
      "dense_137 (Dense)            (None, 128)               32896     \n",
      "_________________________________________________________________\n",
      "dropout_72 (Dropout)         (None, 128)               0         \n",
      "_________________________________________________________________\n",
      "dense_138 (Dense)            (None, 10)                1290      \n",
      "=================================================================\n",
      "Total params: 567,434\n",
      "Trainable params: 567,434\n",
      "Non-trainable params: 0\n",
      "_________________________________________________________________\n",
      "Train on 60000 samples, validate on 10000 samples\n",
      "Epoch 1/25\n",
      "60000/60000 [==============================] - 13s 211us/step - loss: 0.6933 - acc: 0.7798 - val_loss: 0.1800 - val_acc: 0.9488\n",
      "Epoch 2/25\n",
      "60000/60000 [==============================] - 3s 55us/step - loss: 0.2783 - acc: 0.9225 - val_loss: 0.1317 - val_acc: 0.9630\n",
      "Epoch 3/25\n",
      "60000/60000 [==============================] - 3s 53us/step - loss: 0.2091 - acc: 0.9422 - val_loss: 0.1072 - val_acc: 0.9690\n",
      "Epoch 4/25\n",
      "60000/60000 [==============================] - 3s 51us/step - loss: 0.1721 - acc: 0.9521 - val_loss: 0.0977 - val_acc: 0.9716\n",
      "Epoch 5/25\n",
      "60000/60000 [==============================] - 3s 51us/step - loss: 0.1572 - acc: 0.9570 - val_loss: 0.0976 - val_acc: 0.9710\n",
      "Epoch 6/25\n",
      "60000/60000 [==============================] - 3s 51us/step - loss: 0.1416 - acc: 0.9613 - val_loss: 0.0887 - val_acc: 0.9761\n",
      "Epoch 7/25\n",
      "60000/60000 [==============================] - 3s 52us/step - loss: 0.1299 - acc: 0.9645 - val_loss: 0.0853 - val_acc: 0.9754\n",
      "Epoch 8/25\n",
      "60000/60000 [==============================] - 3s 52us/step - loss: 0.1183 - acc: 0.9675 - val_loss: 0.0782 - val_acc: 0.9775\n",
      "Epoch 9/25\n",
      "60000/60000 [==============================] - 3s 52us/step - loss: 0.1090 - acc: 0.9695 - val_loss: 0.0762 - val_acc: 0.9787\n",
      "Epoch 10/25\n",
      "60000/60000 [==============================] - 3s 51us/step - loss: 0.1031 - acc: 0.9710 - val_loss: 0.0736 - val_acc: 0.9796\n",
      "Epoch 11/25\n",
      "60000/60000 [==============================] - 3s 51us/step - loss: 0.1015 - acc: 0.9721 - val_loss: 0.0782 - val_acc: 0.9776\n",
      "Epoch 12/25\n",
      "60000/60000 [==============================] - 3s 52us/step - loss: 0.0935 - acc: 0.9738 - val_loss: 0.0691 - val_acc: 0.9810\n",
      "Epoch 13/25\n",
      "60000/60000 [==============================] - 3s 52us/step - loss: 0.0904 - acc: 0.9743 - val_loss: 0.0739 - val_acc: 0.9815\n",
      "Epoch 14/25\n",
      "60000/60000 [==============================] - 3s 52us/step - loss: 0.0874 - acc: 0.9759 - val_loss: 0.0762 - val_acc: 0.9791\n",
      "Epoch 15/25\n",
      "60000/60000 [==============================] - 3s 51us/step - loss: 0.0850 - acc: 0.9758 - val_loss: 0.0769 - val_acc: 0.9796\n",
      "Epoch 16/25\n",
      "60000/60000 [==============================] - 3s 52us/step - loss: 0.0830 - acc: 0.9765 - val_loss: 0.0674 - val_acc: 0.9810\n",
      "Epoch 17/25\n",
      "60000/60000 [==============================] - 3s 51us/step - loss: 0.0775 - acc: 0.9776 - val_loss: 0.0712 - val_acc: 0.9811\n",
      "Epoch 18/25\n",
      "60000/60000 [==============================] - 3s 51us/step - loss: 0.0771 - acc: 0.9788 - val_loss: 0.0733 - val_acc: 0.9809\n",
      "Epoch 19/25\n",
      "60000/60000 [==============================] - 3s 51us/step - loss: 0.0742 - acc: 0.9796 - val_loss: 0.0700 - val_acc: 0.9824\n",
      "Epoch 20/25\n",
      "60000/60000 [==============================] - 3s 50us/step - loss: 0.0693 - acc: 0.9801 - val_loss: 0.0720 - val_acc: 0.9824\n",
      "Epoch 21/25\n",
      "60000/60000 [==============================] - 3s 50us/step - loss: 0.0712 - acc: 0.9803 - val_loss: 0.0753 - val_acc: 0.9818\n",
      "Epoch 22/25\n",
      "60000/60000 [==============================] - 3s 51us/step - loss: 0.0669 - acc: 0.9804 - val_loss: 0.0676 - val_acc: 0.9825\n",
      "Epoch 23/25\n",
      "60000/60000 [==============================] - 3s 51us/step - loss: 0.0665 - acc: 0.9805 - val_loss: 0.0707 - val_acc: 0.9835\n",
      "Epoch 24/25\n",
      "60000/60000 [==============================] - 3s 51us/step - loss: 0.0622 - acc: 0.9822 - val_loss: 0.0670 - val_acc: 0.9844\n",
      "Epoch 25/25\n",
      "60000/60000 [==============================] - 3s 51us/step - loss: 0.0605 - acc: 0.9829 - val_loss: 0.0701 - val_acc: 0.9826\n",
      "Test score: 0.07005962141250102\n",
      "Test accuracy: 0.9826\n"
     ]
    },
    {
     "data": {
      "image/png": "[encoded data removed]",
      "text/plain": [
       "<Figure size 432x288 with 1 Axes>"
      ]
     },
     "metadata": {
      "tags": []
     },
     "output_type": "display_data"
    }
   ],
   "source": [
    "n_layers = [512,256,128]\n",
    "d = [0.5,0.6,0.5]\n",
    "nb_epoch = 25\n",
    "nn3(n_layers,d)"
   ]
  },
  {
   "cell_type": "markdown",
   "metadata": {
    "colab_type": "text",
    "id": "8S_TSVtsbsG3"
   },
   "source": [
    "# Architecture with 2 hidden layers."
   ]
  },
  {
   "cell_type": "code",
   "execution_count": 82,
   "metadata": {
    "colab": {
     "base_uri": "https://localhost:8080/",
     "height": 1459
    },
    "colab_type": "code",
    "id": "5FqIvpzzbydV",
    "outputId": "5142b154-99c0-4884-b309-e29d51370ae6"
   },
   "outputs": [
    {
     "name": "stdout",
     "output_type": "stream",
     "text": [
      "_________________________________________________________________\n",
      "Layer (type)                 Output Shape              Param #   \n",
      "=================================================================\n",
      "dense_139 (Dense)            (None, 468)               367380    \n",
      "_________________________________________________________________\n",
      "dropout_73 (Dropout)         (None, 468)               0         \n",
      "_________________________________________________________________\n",
      "dense_140 (Dense)            (None, 92)                43148     \n",
      "_________________________________________________________________\n",
      "dropout_74 (Dropout)         (None, 92)                0         \n",
      "_________________________________________________________________\n",
      "dense_141 (Dense)            (None, 10)                930       \n",
      "=================================================================\n",
      "Total params: 411,458\n",
      "Trainable params: 411,458\n",
      "Non-trainable params: 0\n",
      "_________________________________________________________________\n",
      "Train on 60000 samples, validate on 10000 samples\n",
      "Epoch 1/25\n",
      "60000/60000 [==============================] - 12s 204us/step - loss: 0.5460 - acc: 0.8301 - val_loss: 0.1661 - val_acc: 0.9496\n",
      "Epoch 2/25\n",
      "60000/60000 [==============================] - 3s 48us/step - loss: 0.2620 - acc: 0.9256 - val_loss: 0.1239 - val_acc: 0.9634\n",
      "Epoch 3/25\n",
      "60000/60000 [==============================] - 3s 48us/step - loss: 0.1996 - acc: 0.9425 - val_loss: 0.1078 - val_acc: 0.9681\n",
      "Epoch 4/25\n",
      "60000/60000 [==============================] - 3s 47us/step - loss: 0.1770 - acc: 0.9495 - val_loss: 0.0922 - val_acc: 0.9737\n",
      "Epoch 5/25\n",
      "60000/60000 [==============================] - 3s 47us/step - loss: 0.1545 - acc: 0.9549 - val_loss: 0.0901 - val_acc: 0.9742\n",
      "Epoch 6/25\n",
      "60000/60000 [==============================] - 3s 48us/step - loss: 0.1453 - acc: 0.9576 - val_loss: 0.0795 - val_acc: 0.9768\n",
      "Epoch 7/25\n",
      "60000/60000 [==============================] - 3s 48us/step - loss: 0.1310 - acc: 0.9618 - val_loss: 0.0770 - val_acc: 0.9776\n",
      "Epoch 8/25\n",
      "60000/60000 [==============================] - 3s 48us/step - loss: 0.1191 - acc: 0.9645 - val_loss: 0.0721 - val_acc: 0.9783\n",
      "Epoch 9/25\n",
      "60000/60000 [==============================] - 3s 47us/step - loss: 0.1163 - acc: 0.9656 - val_loss: 0.0758 - val_acc: 0.9781\n",
      "Epoch 10/25\n",
      "60000/60000 [==============================] - 3s 47us/step - loss: 0.1085 - acc: 0.9682 - val_loss: 0.0742 - val_acc: 0.9786\n",
      "Epoch 11/25\n",
      "60000/60000 [==============================] - 3s 47us/step - loss: 0.1048 - acc: 0.9691 - val_loss: 0.0755 - val_acc: 0.9798\n",
      "Epoch 12/25\n",
      "60000/60000 [==============================] - 3s 47us/step - loss: 0.0997 - acc: 0.9707 - val_loss: 0.0683 - val_acc: 0.9816\n",
      "Epoch 13/25\n",
      "60000/60000 [==============================] - 3s 48us/step - loss: 0.0954 - acc: 0.9715 - val_loss: 0.0703 - val_acc: 0.9807\n",
      "Epoch 14/25\n",
      "60000/60000 [==============================] - 3s 47us/step - loss: 0.0937 - acc: 0.9730 - val_loss: 0.0705 - val_acc: 0.9804\n",
      "Epoch 15/25\n",
      "60000/60000 [==============================] - 3s 47us/step - loss: 0.0901 - acc: 0.9732 - val_loss: 0.0693 - val_acc: 0.9817\n",
      "Epoch 16/25\n",
      "60000/60000 [==============================] - 3s 47us/step - loss: 0.0835 - acc: 0.9750 - val_loss: 0.0720 - val_acc: 0.9807\n",
      "Epoch 17/25\n",
      "60000/60000 [==============================] - 3s 48us/step - loss: 0.0852 - acc: 0.9744 - val_loss: 0.0672 - val_acc: 0.9821\n",
      "Epoch 18/25\n",
      "60000/60000 [==============================] - 3s 47us/step - loss: 0.0828 - acc: 0.9748 - val_loss: 0.0675 - val_acc: 0.9823\n",
      "Epoch 19/25\n",
      "60000/60000 [==============================] - 3s 47us/step - loss: 0.0802 - acc: 0.9758 - val_loss: 0.0718 - val_acc: 0.9807\n",
      "Epoch 20/25\n",
      "60000/60000 [==============================] - 3s 47us/step - loss: 0.0769 - acc: 0.9768 - val_loss: 0.0683 - val_acc: 0.9812\n",
      "Epoch 21/25\n",
      "60000/60000 [==============================] - 3s 48us/step - loss: 0.0743 - acc: 0.9778 - val_loss: 0.0671 - val_acc: 0.9830\n",
      "Epoch 22/25\n",
      "60000/60000 [==============================] - 3s 48us/step - loss: 0.0767 - acc: 0.9764 - val_loss: 0.0661 - val_acc: 0.9824\n",
      "Epoch 23/25\n",
      "60000/60000 [==============================] - 3s 48us/step - loss: 0.0728 - acc: 0.9777 - val_loss: 0.0680 - val_acc: 0.9817\n",
      "Epoch 24/25\n",
      "60000/60000 [==============================] - 3s 47us/step - loss: 0.0712 - acc: 0.9783 - val_loss: 0.0695 - val_acc: 0.9823\n",
      "Epoch 25/25\n",
      "60000/60000 [==============================] - 3s 47us/step - loss: 0.0681 - acc: 0.9795 - val_loss: 0.0729 - val_acc: 0.9823\n",
      "Test score: 0.07291174245599469\n",
      "Test accuracy: 0.9823\n"
     ]
    },
    {
     "data": {
      "image/png": "[encoded data removed]",
      "text/plain": [
       "<Figure size 432x288 with 1 Axes>"
      ]
     },
     "metadata": {
      "tags": []
     },
     "output_type": "display_data"
    }
   ],
   "source": [
    "n_layers = [468,92]\n",
    "d = [0.6,0.5]\n",
    "nb_epoch = 25\n",
    "nn3(n_layers,d)"
   ]
  },
  {
   "cell_type": "markdown",
   "metadata": {
    "colab_type": "text",
    "id": "EAOzDCMMceNC"
   },
   "source": [
    "# Architecture with 5 hidden layers"
   ]
  },
  {
   "cell_type": "code",
   "execution_count": 83,
   "metadata": {
    "colab": {
     "base_uri": "https://localhost:8080/",
     "height": 1661
    },
    "colab_type": "code",
    "id": "qgSFRWYbciEM",
    "outputId": "e3f9dd51-19e4-4111-e5b0-dad44d903a64"
   },
   "outputs": [
    {
     "name": "stdout",
     "output_type": "stream",
     "text": [
      "_________________________________________________________________\n",
      "Layer (type)                 Output Shape              Param #   \n",
      "=================================================================\n",
      "dense_142 (Dense)            (None, 650)               510250    \n",
      "_________________________________________________________________\n",
      "dropout_75 (Dropout)         (None, 650)               0         \n",
      "_________________________________________________________________\n",
      "dense_143 (Dense)            (None, 520)               338520    \n",
      "_________________________________________________________________\n",
      "dropout_76 (Dropout)         (None, 520)               0         \n",
      "_________________________________________________________________\n",
      "dense_144 (Dense)            (None, 410)               213610    \n",
      "_________________________________________________________________\n",
      "dropout_77 (Dropout)         (None, 410)               0         \n",
      "_________________________________________________________________\n",
      "dense_145 (Dense)            (None, 290)               119190    \n",
      "_________________________________________________________________\n",
      "dropout_78 (Dropout)         (None, 290)               0         \n",
      "_________________________________________________________________\n",
      "dense_146 (Dense)            (None, 125)               36375     \n",
      "_________________________________________________________________\n",
      "dropout_79 (Dropout)         (None, 125)               0         \n",
      "_________________________________________________________________\n",
      "dense_147 (Dense)            (None, 10)                1260      \n",
      "=================================================================\n",
      "Total params: 1,219,205\n",
      "Trainable params: 1,219,205\n",
      "Non-trainable params: 0\n",
      "_________________________________________________________________\n",
      "Train on 60000 samples, validate on 10000 samples\n",
      "Epoch 1/25\n",
      "60000/60000 [==============================] - 13s 217us/step - loss: 1.1927 - acc: 0.5892 - val_loss: 0.2396 - val_acc: 0.9360\n",
      "Epoch 2/25\n",
      "60000/60000 [==============================] - 4s 61us/step - loss: 0.3680 - acc: 0.9039 - val_loss: 0.1696 - val_acc: 0.9526\n",
      "Epoch 3/25\n",
      "60000/60000 [==============================] - 4s 60us/step - loss: 0.2690 - acc: 0.9318 - val_loss: 0.1447 - val_acc: 0.9621\n",
      "Epoch 4/25\n",
      "60000/60000 [==============================] - 4s 60us/step - loss: 0.2314 - acc: 0.9419 - val_loss: 0.1259 - val_acc: 0.9657\n",
      "Epoch 5/25\n",
      "60000/60000 [==============================] - 4s 59us/step - loss: 0.2028 - acc: 0.9509 - val_loss: 0.1172 - val_acc: 0.9702\n",
      "Epoch 6/25\n",
      "60000/60000 [==============================] - 4s 59us/step - loss: 0.1827 - acc: 0.9546 - val_loss: 0.1097 - val_acc: 0.9722\n",
      "Epoch 7/25\n",
      "60000/60000 [==============================] - 4s 61us/step - loss: 0.1654 - acc: 0.9595 - val_loss: 0.1095 - val_acc: 0.9724\n",
      "Epoch 8/25\n",
      "60000/60000 [==============================] - 4s 61us/step - loss: 0.1588 - acc: 0.9606 - val_loss: 0.0979 - val_acc: 0.9763\n",
      "Epoch 9/25\n",
      "60000/60000 [==============================] - 4s 62us/step - loss: 0.1512 - acc: 0.9623 - val_loss: 0.1008 - val_acc: 0.9750\n",
      "Epoch 10/25\n",
      "60000/60000 [==============================] - 4s 61us/step - loss: 0.1447 - acc: 0.9647 - val_loss: 0.0935 - val_acc: 0.9758\n",
      "Epoch 11/25\n",
      "60000/60000 [==============================] - 4s 60us/step - loss: 0.1356 - acc: 0.9666 - val_loss: 0.0900 - val_acc: 0.9781\n",
      "Epoch 12/25\n",
      "60000/60000 [==============================] - 4s 59us/step - loss: 0.1276 - acc: 0.9689 - val_loss: 0.0905 - val_acc: 0.9768\n",
      "Epoch 13/25\n",
      "60000/60000 [==============================] - 4s 60us/step - loss: 0.1289 - acc: 0.9686 - val_loss: 0.0914 - val_acc: 0.9784\n",
      "Epoch 14/25\n",
      "60000/60000 [==============================] - 4s 60us/step - loss: 0.1214 - acc: 0.9703 - val_loss: 0.0896 - val_acc: 0.9780\n",
      "Epoch 15/25\n",
      "60000/60000 [==============================] - 4s 60us/step - loss: 0.1139 - acc: 0.9728 - val_loss: 0.0949 - val_acc: 0.9785\n",
      "Epoch 16/25\n",
      "60000/60000 [==============================] - 4s 59us/step - loss: 0.1100 - acc: 0.9727 - val_loss: 0.0884 - val_acc: 0.9793\n",
      "Epoch 17/25\n",
      "60000/60000 [==============================] - 4s 60us/step - loss: 0.1101 - acc: 0.9729 - val_loss: 0.0961 - val_acc: 0.9791\n",
      "Epoch 18/25\n",
      "60000/60000 [==============================] - 4s 59us/step - loss: 0.1053 - acc: 0.9743 - val_loss: 0.0867 - val_acc: 0.9792\n",
      "Epoch 19/25\n",
      "60000/60000 [==============================] - 4s 60us/step - loss: 0.1106 - acc: 0.9731 - val_loss: 0.0846 - val_acc: 0.9801\n",
      "Epoch 20/25\n",
      "60000/60000 [==============================] - 4s 60us/step - loss: 0.1019 - acc: 0.9760 - val_loss: 0.0834 - val_acc: 0.9817\n",
      "Epoch 21/25\n",
      "60000/60000 [==============================] - 4s 60us/step - loss: 0.0978 - acc: 0.9759 - val_loss: 0.0777 - val_acc: 0.9813\n",
      "Epoch 22/25\n",
      "60000/60000 [==============================] - 4s 60us/step - loss: 0.0950 - acc: 0.9769 - val_loss: 0.0892 - val_acc: 0.9811\n",
      "Epoch 23/25\n",
      "60000/60000 [==============================] - 4s 60us/step - loss: 0.0943 - acc: 0.9773 - val_loss: 0.0852 - val_acc: 0.9814\n",
      "Epoch 24/25\n",
      "60000/60000 [==============================] - 4s 60us/step - loss: 0.0916 - acc: 0.9777 - val_loss: 0.0850 - val_acc: 0.9818\n",
      "Epoch 25/25\n",
      "60000/60000 [==============================] - 4s 59us/step - loss: 0.0877 - acc: 0.9781 - val_loss: 0.0810 - val_acc: 0.9819\n",
      "Test score: 0.08099026859523369\n",
      "Test accuracy: 0.9819\n"
     ]
    },
    {
     "data": {
      "image/png": "[encoded data removed]",
      "text/plain": [
       "<Figure size 432x288 with 1 Axes>"
      ]
     },
     "metadata": {
      "tags": []
     },
     "output_type": "display_data"
    }
   ],
   "source": [
    "n_layers = [650,520,410,290,125]\n",
    "d = [0.5,0.6,0.5,0.5,0.5]\n",
    "nb_epoch = 25\n",
    "nn3(n_layers,d)"
   ]
  },
  {
   "cell_type": "markdown",
   "metadata": {
    "colab_type": "text",
    "id": "Z_0iP56Hdgih"
   },
   "source": [
    "# Experimenting with conditional batch normalisation and dropout with 3 hidden layers."
   ]
  },
  {
   "cell_type": "code",
   "execution_count": 0,
   "metadata": {
    "colab": {},
    "colab_type": "code",
    "id": "KTLq8ELodt3y"
   },
   "outputs": [],
   "source": [
    "# https://stackoverflow.com/questions/34716454/where-do-i-call-the-batchnormalization-function-in-keras\n",
    "def expt():\n",
    "  model = Sequential()\n",
    "  model.add(Dense(584, activation='relu', input_shape=(input_dim,), kernel_initializer=K.he_normal(seed=None)))\n",
    "  model.add(BatchNormalization())\n",
    "  model.add(Dropout(0.5))\n",
    "  model.add(Dense(320, activation='relu',kernel_initializer=K.he_normal(seed=None)) )\n",
    "  model.add(BatchNormalization())\n",
    "  model.add(Dense(125, activation='relu',kernel_initializer=K.he_normal(seed=None)) )\n",
    "  model.add(Dropout(0.5))\n",
    "  \n",
    "\n",
    "  model.add(Dense(output_dim, activation='softmax'))\n",
    "\n",
    "\n",
    "  model.summary()\n",
    "\n",
    "\n",
    "  model.compile(optimizer='adam', loss='categorical_crossentropy', metrics=['accuracy'])\n",
    "\n",
    "  history = model.fit(X_train, Y_train, batch_size=batch_size, epochs=nb_epoch, verbose=1, validation_data=(X_test, Y_test))\n",
    "\n",
    "\n",
    "  %matplotlib inline\n",
    "  score = model.evaluate(X_test, Y_test, verbose=0) \n",
    "  print('Test score:', score[0]) \n",
    "  print('Test accuracy:', score[1])\n",
    "\n",
    "  fig,ax = plt.subplots(1,1)\n",
    "  ax.set_xlabel('epoch') ; ax.set_ylabel('Categorical Crossentropy Loss')\n",
    "\n",
    "  # list of epoch numbers\n",
    "  x = list(range(1,nb_epoch+1))\n",
    "\n",
    "   #dict_keys(['val_loss', 'val_acc', 'loss', 'acc'])\n",
    "  # history = model_drop.fit(X_train, Y_train, batch_size=batch_size, epochs=nb_epoch, verbose=1, validation_data=(X_test, Y_test))\n",
    "\n",
    "  # we will get val_loss and val_acc only when you pass the paramter validation_data\n",
    "  # val_loss : validation loss\n",
    "  # val_acc : validation accuracy\n",
    "\n",
    "  # loss : training loss\n",
    "  # acc : train accuracy\n",
    "  # for each key in histrory.histrory we will have a list of length equal to number of epochs\n",
    "  vy = history.history['val_loss']\n",
    "  ty = history.history['loss']\n",
    "  plt_dynamic(x, vy, ty, ax)"
   ]
  },
  {
   "cell_type": "code",
   "execution_count": 87,
   "metadata": {
    "colab": {
     "base_uri": "https://localhost:8080/",
     "height": 1560
    },
    "colab_type": "code",
    "id": "zHeyb3QufkOp",
    "outputId": "d2bb7088-40ec-4afa-fcff-bda1937a3ba5"
   },
   "outputs": [
    {
     "name": "stdout",
     "output_type": "stream",
     "text": [
      "_________________________________________________________________\n",
      "Layer (type)                 Output Shape              Param #   \n",
      "=================================================================\n",
      "dense_148 (Dense)            (None, 584)               458440    \n",
      "_________________________________________________________________\n",
      "batch_normalization_90 (Batc (None, 584)               2336      \n",
      "_________________________________________________________________\n",
      "dropout_80 (Dropout)         (None, 584)               0         \n",
      "_________________________________________________________________\n",
      "dense_149 (Dense)            (None, 320)               187200    \n",
      "_________________________________________________________________\n",
      "batch_normalization_91 (Batc (None, 320)               1280      \n",
      "_________________________________________________________________\n",
      "dense_150 (Dense)            (None, 125)               40125     \n",
      "_________________________________________________________________\n",
      "dropout_81 (Dropout)         (None, 125)               0         \n",
      "_________________________________________________________________\n",
      "dense_151 (Dense)            (None, 10)                1260      \n",
      "=================================================================\n",
      "Total params: 690,641\n",
      "Trainable params: 688,833\n",
      "Non-trainable params: 1,808\n",
      "_________________________________________________________________\n",
      "Train on 60000 samples, validate on 10000 samples\n",
      "Epoch 1/25\n",
      "60000/60000 [==============================] - 14s 240us/step - loss: 0.4274 - acc: 0.8725 - val_loss: 0.1311 - val_acc: 0.9599\n",
      "Epoch 2/25\n",
      "60000/60000 [==============================] - 4s 73us/step - loss: 0.1952 - acc: 0.9413 - val_loss: 0.1019 - val_acc: 0.9687\n",
      "Epoch 3/25\n",
      "60000/60000 [==============================] - 4s 73us/step - loss: 0.1537 - acc: 0.9543 - val_loss: 0.0844 - val_acc: 0.9732\n",
      "Epoch 4/25\n",
      "60000/60000 [==============================] - 4s 75us/step - loss: 0.1326 - acc: 0.9605 - val_loss: 0.0840 - val_acc: 0.9733\n",
      "Epoch 5/25\n",
      "60000/60000 [==============================] - 4s 74us/step - loss: 0.1166 - acc: 0.9649 - val_loss: 0.0822 - val_acc: 0.9743\n",
      "Epoch 6/25\n",
      "60000/60000 [==============================] - 5s 75us/step - loss: 0.1027 - acc: 0.9687 - val_loss: 0.0737 - val_acc: 0.9784\n",
      "Epoch 7/25\n",
      "60000/60000 [==============================] - 5s 76us/step - loss: 0.0979 - acc: 0.9701 - val_loss: 0.0691 - val_acc: 0.9785\n",
      "Epoch 8/25\n",
      "60000/60000 [==============================] - 5s 76us/step - loss: 0.0907 - acc: 0.9718 - val_loss: 0.0735 - val_acc: 0.9778\n",
      "Epoch 9/25\n",
      "60000/60000 [==============================] - 4s 72us/step - loss: 0.0847 - acc: 0.9740 - val_loss: 0.0632 - val_acc: 0.9810\n",
      "Epoch 10/25\n",
      "60000/60000 [==============================] - 4s 73us/step - loss: 0.0812 - acc: 0.9745 - val_loss: 0.0635 - val_acc: 0.9810\n",
      "Epoch 11/25\n",
      "60000/60000 [==============================] - 4s 75us/step - loss: 0.0734 - acc: 0.9773 - val_loss: 0.0606 - val_acc: 0.9821\n",
      "Epoch 12/25\n",
      "60000/60000 [==============================] - 4s 71us/step - loss: 0.0717 - acc: 0.9780 - val_loss: 0.0587 - val_acc: 0.9832\n",
      "Epoch 13/25\n",
      "60000/60000 [==============================] - 4s 72us/step - loss: 0.0663 - acc: 0.9793 - val_loss: 0.0564 - val_acc: 0.9833\n",
      "Epoch 14/25\n",
      "60000/60000 [==============================] - 4s 72us/step - loss: 0.0651 - acc: 0.9792 - val_loss: 0.0588 - val_acc: 0.9823\n",
      "Epoch 15/25\n",
      "60000/60000 [==============================] - 4s 72us/step - loss: 0.0624 - acc: 0.9805 - val_loss: 0.0584 - val_acc: 0.9834\n",
      "Epoch 16/25\n",
      "60000/60000 [==============================] - 4s 73us/step - loss: 0.0586 - acc: 0.9817 - val_loss: 0.0573 - val_acc: 0.9847\n",
      "Epoch 17/25\n",
      "60000/60000 [==============================] - 4s 72us/step - loss: 0.0573 - acc: 0.9821 - val_loss: 0.0585 - val_acc: 0.9846\n",
      "Epoch 18/25\n",
      "60000/60000 [==============================] - 4s 72us/step - loss: 0.0550 - acc: 0.9823 - val_loss: 0.0556 - val_acc: 0.9845\n",
      "Epoch 19/25\n",
      "60000/60000 [==============================] - 4s 71us/step - loss: 0.0526 - acc: 0.9840 - val_loss: 0.0546 - val_acc: 0.9850\n",
      "Epoch 20/25\n",
      "60000/60000 [==============================] - 4s 71us/step - loss: 0.0478 - acc: 0.9846 - val_loss: 0.0586 - val_acc: 0.9847\n",
      "Epoch 21/25\n",
      "60000/60000 [==============================] - 4s 70us/step - loss: 0.0479 - acc: 0.9845 - val_loss: 0.0622 - val_acc: 0.9827\n",
      "Epoch 22/25\n",
      "60000/60000 [==============================] - 4s 71us/step - loss: 0.0469 - acc: 0.9852 - val_loss: 0.0600 - val_acc: 0.9842\n",
      "Epoch 23/25\n",
      "60000/60000 [==============================] - 4s 73us/step - loss: 0.0453 - acc: 0.9855 - val_loss: 0.0564 - val_acc: 0.9854\n",
      "Epoch 24/25\n",
      "60000/60000 [==============================] - 4s 72us/step - loss: 0.0473 - acc: 0.9850 - val_loss: 0.0523 - val_acc: 0.9860\n",
      "Epoch 25/25\n",
      "60000/60000 [==============================] - 4s 71us/step - loss: 0.0415 - acc: 0.9864 - val_loss: 0.0525 - val_acc: 0.9855\n",
      "Test score: 0.05252337242660105\n",
      "Test accuracy: 0.9855\n"
     ]
    },
    {
     "data": {
      "image/png": "[encoded data removed]",
      "text/plain": [
       "<Figure size 432x288 with 1 Axes>"
      ]
     },
     "metadata": {
      "tags": []
     },
     "output_type": "display_data"
    }
   ],
   "source": [
    "expt()"
   ]
  },
  {
   "cell_type": "code",
   "execution_count": 0,
   "metadata": {
    "colab": {},
    "colab_type": "code",
    "id": "vJF7JMiEgPAU"
   },
   "outputs": [],
   "source": []
  },
  {
   "cell_type": "markdown",
   "metadata": {
    "colab_type": "text",
    "id": "h-FOFWnBgSPB"
   },
   "source": [
    "# Conclusions"
   ]
  },
  {
   "cell_type": "markdown",
   "metadata": {
    "colab_type": "text",
    "id": "P_ah0NzagWPt"
   },
   "source": []
  },
  {
   "cell_type": "code",
   "execution_count": 90,
   "metadata": {
    "colab": {
     "base_uri": "https://localhost:8080/",
     "height": 823
    },
    "colab_type": "code",
    "id": "56uTfi3pgW_U",
    "outputId": "aaa4a765-3691-49f6-d499-54cf303c1064"
   },
   "outputs": [
    {
     "name": "stdout",
     "output_type": "stream",
     "text": [
      "===================================================================\n",
      " FOR DROPOUT+BATCH NORMALISATION\n",
      "+----------------------+------------+-----------+---------+\n",
      "| No. of hidden layers | Train Loss |  Val Loss | Val AUC |\n",
      "+----------------------+------------+-----------+---------+\n",
      "|          2           |   0.0645   |   0.0584  |  0.9828 |\n",
      "|          3           |   0.0612   |   0.0549  |  0.985  |\n",
      "|          4           |   0.0612   |   0.0638  |  0.9847 |\n",
      "|          5           |   0.0669   |   0.0607  |  0.9846 |\n",
      "+----------------------+------------+-----------+---------+\n",
      "====================================================================\n",
      "====================================================================\n",
      " FOR ONLY BATCH NORMALISATION and NO DROPOUT\n",
      "+----------------------+------------+-----------+---------+\n",
      "| No. of hidden layers | Train Loss |  Val Loss | Val AUC |\n",
      "+----------------------+------------+-----------+---------+\n",
      "|          2           |   0.005    |   0.084   |  0.9808 |\n",
      "|          3           |   0.0058   |   0.0723  |  0.9833 |\n",
      "|          5           |   0.0093   |   0.0698  |  0.984  |\n",
      "+----------------------+------------+-----------+---------+\n",
      "====================================================================\n",
      "====================================================================\n",
      " FOR NO DROPOUT AND NO BATCH NORMALISATION\n",
      "+----------------------+------------+-----------+---------+\n",
      "| No. of hidden layers | Train Loss |  Val Loss | Val AUC |\n",
      "+----------------------+------------+-----------+---------+\n",
      "|          2           |   0.0065   |   0.0998  |  0.9807 |\n",
      "|          3           |   0.0072   |   0.0933  |  0.9814 |\n",
      "|          5           |   0.0095   |   0.1317  |  0.9788 |\n",
      "+----------------------+------------+-----------+---------+\n",
      "====================================================================\n",
      "====================================================================\n",
      " FOR DROPOUT ONLY AND NO BATCH NORMALISATION\n",
      "+----------------------+------------+-----------+---------+\n",
      "| No. of hidden layers | Train Loss |  Val Loss | Val AUC |\n",
      "+----------------------+------------+-----------+---------+\n",
      "|          2           |   0.0681   |   0.0729  |  0.9823 |\n",
      "|          3           |   0.0605   |   0.0701  |  0.9826 |\n",
      "|          5           |   0.0877   |   0.081   |  0.9819 |\n",
      "+----------------------+------------+-----------+---------+\n",
      "====================================================================\n",
      "====================================================================\n",
      "EXPERIMENTAL _ DROPOUT-NORMALISATION-DROPOUT\n",
      "+----------------------+------------+-----------+---------+\n",
      "| No. of hidden layers | Train Loss |  Val Loss | Val AUC |\n",
      "+----------------------+------------+-----------+---------+\n",
      "|          3           |   0.055    |   0.0556  |  0.9845 |\n",
      "+----------------------+------------+-----------+---------+\n"
     ]
    }
   ],
   "source": [
    "from prettytable import PrettyTable\n",
    "print(\"===================================================================\")\n",
    "print(\" FOR DROPOUT+BATCH NORMALISATION\")\n",
    "x = PrettyTable()\n",
    "x.field_names = [\"No. of hidden layers\", \"Train Loss\", \" Val Loss\", \"Val AUC\"]\n",
    "x.add_row([2, 0.0645, 0.0584, 0.9828])\n",
    "x.add_row([3, 0.0612, 0.0549, 0.9850])\n",
    "x.add_row([4, 0.0612, 0.0638, 0.9847])\n",
    "x.add_row([5, 0.0669, 0.0607, 0.9846])\n",
    "print(x)\n",
    "print(\"====================================================================\")\n",
    "print(\"====================================================================\")\n",
    "print(\" FOR ONLY BATCH NORMALISATION and NO DROPOUT\")\n",
    "x = PrettyTable()\n",
    "x.field_names = [\"No. of hidden layers\", \"Train Loss\", \" Val Loss\", \"Val AUC\"]\n",
    "x.add_row([2, 0.0050, 0.0840, 0.9808])\n",
    "x.add_row([3, 0.0058, 0.0723, 0.9833])\n",
    "x.add_row([5, 0.0093, 0.0698, 0.9840])\n",
    "print(x)\n",
    "\n",
    "print(\"====================================================================\")\n",
    "print(\"====================================================================\")\n",
    "print(\" FOR NO DROPOUT AND NO BATCH NORMALISATION\")\n",
    "x = PrettyTable()\n",
    "x.field_names = [\"No. of hidden layers\", \"Train Loss\", \" Val Loss\", \"Val AUC\"]\n",
    "x.add_row([2, 0.0065, 0.0998, 0.9807])\n",
    "x.add_row([3, 0.0072, 0.0933, 0.9814])\n",
    "x.add_row([5, 0.0095, 0.1317, 0.9788])\n",
    "print(x)\n",
    "\n",
    "print(\"====================================================================\")\n",
    "print(\"====================================================================\")\n",
    "print(\" FOR DROPOUT ONLY AND NO BATCH NORMALISATION\")\n",
    "x = PrettyTable()\n",
    "x.field_names = [\"No. of hidden layers\", \"Train Loss\", \" Val Loss\", \"Val AUC\"]\n",
    "x.add_row([2, 0.0681, 0.0729, 0.9823])\n",
    "x.add_row([3, 0.0605, 0.0701, 0.9826])\n",
    "x.add_row([5, 0.0877, 0.0810, 0.9819])\n",
    "print(x)\n",
    "\n",
    "print(\"====================================================================\")\n",
    "print(\"====================================================================\")\n",
    "print(\"EXPERIMENTAL _ DROPOUT-NORMALISATION-DROPOUT\")\n",
    "x = PrettyTable()\n",
    "x.field_names = [\"No. of hidden layers\", \"Train Loss\", \" Val Loss\", \"Val AUC\"]\n",
    "x.add_row([3, 0.0550, 0.0556, 0.9845])\n",
    "print(x)"
   ]
  },
  {
   "cell_type": "markdown",
   "metadata": {
    "colab_type": "text",
    "id": "-qod2HlBmhVp"
   },
   "source": [
    "### Conclusions"
   ]
  },
  {
   "cell_type": "markdown",
   "metadata": {
    "colab_type": "text",
    "id": "SVFDi0H2mlZi"
   },
   "source": [
    "1) Observing all the pretty tables, we conclude that\n",
    "( Dropout+Batch Normalisation) > only Dropout > only batch normalisation > no dropout or normalisation\n",
    "\n",
    "2) As can be observed form the graphs , overfitting occurs, wherever there is no dropout or batch normalisation.\n",
    "\n",
    "3) The best model was found from the experimental model.(Considering upto epoch 18.) It was done as :\n",
    "For this , drop out was applied on first hidden layer.Then, batch normalisation on second hidden layer. Then again, dropout on third hidden layer. This way,instead of applying both of them on all layers,  time and cost of computing was saved. The result was also good. The diff between train loss and val loss was 0.0006 at epoch 18(Least of all models).Other models took till epoch near to 25 to converge.\n",
    "\n",
    "4) We can infer that dropout and batch normalisation helps a lot in deep learning models especially in avoiding overfitting."
   ]
  }
 ],
 "metadata": {
  "accelerator": "GPU",
  "colab": {
   "collapsed_sections": [],
   "name": "Assignment12.ipynb",
   "provenance": [],
   "version": "0.3.2"
  },
  "kernelspec": {
   "display_name": "Python 3",
   "language": "python",
   "name": "python3"
  },
  "language_info": {
   "codemirror_mode": {
    "name": "ipython",
    "version": 3
   },
   "file_extension": ".py",
   "mimetype": "text/x-python",
   "name": "python",
   "nbconvert_exporter": "python",
   "pygments_lexer": "ipython3",
   "version": "3.6.5"
  }
 },
 "nbformat": 4,
 "nbformat_minor": 1
}
