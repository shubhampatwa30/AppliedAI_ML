{
 "cells": [
  {
   "cell_type": "code",
   "execution_count": 233,
   "metadata": {},
   "outputs": [],
   "source": [
    "import numpy as np\n",
    "from random import randint\n",
    "import math\n",
    "import nltk\n",
    "import os\n",
    "import re\n",
    "import io\n",
    "import sys\n",
    "import copy\n",
    "from nltk.corpus import stopwords\n",
    "from math import log\n",
    "from math import e\n",
    "from collections import Counter\n",
    "import collections"
   ]
  },
  {
   "cell_type": "code",
   "execution_count": 234,
   "metadata": {},
   "outputs": [],
   "source": [
    "def fileRead(path):\n",
    "    vocab = []\n",
    "    dictionary = {}\n",
    "    for file in os.listdir(path):\n",
    "        f = open(path+\"/\"+file,encoding = \"ISO-8859-1\")\n",
    "        text = f.read()\n",
    "        text = re.sub('[^a-zA-Z]', ' ', text)\n",
    "        words_list = text.strip().split()\n",
    "        dictionary[file] = words_list\n",
    "        vocab.extend(words_list)\n",
    "    return vocab, dictionary"
   ]
  },
  {
   "cell_type": "code",
   "execution_count": 235,
   "metadata": {},
   "outputs": [],
   "source": [
    "def clean_text(data, remove_list):\n",
    "    cleaned_text = []\n",
    "    for data_unit in data:\n",
    "        for char in remove_list:\n",
    "            data_unit = data_unit.replace(char, '')\n",
    "        data_unit = data_unit.lower()\n",
    "        cleaned_text.append(data_unit)\n",
    "        \n",
    "    print(cleaned_text)\n",
    "    return cleaned_text"
   ]
  },
  {
   "cell_type": "code",
   "execution_count": 236,
   "metadata": {},
   "outputs": [],
   "source": [
    "def removeStopWords(words_list):\n",
    "    words_new = []\n",
    "    for word in words_list:\n",
    "        if word not in stopwords:\n",
    "            words_new.append(word)\n",
    "            \n",
    "    return words_new "
   ]
  },
  {
   "cell_type": "code",
   "execution_count": 237,
   "metadata": {},
   "outputs": [],
   "source": [
    "#method to get words, given path, removeStopWords = true/false (1/0)\n",
    "def getWords(path, removeStopCode):\n",
    "    wordList = []\n",
    "    wordDic = {}\n",
    "    for file in os.listdir(path): #get file\n",
    "        #print(\"entered 1 loop\")\n",
    "        f = open(path+\"/\"+file,encoding = \"ISO-8859-1\")  #open file\n",
    "        text = f.read()\n",
    "        text = re.sub('[^a-zA-Z]', ' ', text)\n",
    "        words_list = text.strip().split()\n",
    "        words_new = []\n",
    "    \n",
    "    if removeStopCode == 1:\n",
    "        words_new = removeStopWords(words_list)\n",
    "    else:\n",
    "        words_new = words_list\n",
    "        \n",
    "    wordDic[file] = words_new #words across specific email\n",
    "    wordList.extend(words_new)#words across all emails\n",
    "    \n",
    "    return wordList, wordDic"
   ]
  },
  {
   "cell_type": "code",
   "execution_count": 238,
   "metadata": {},
   "outputs": [],
   "source": [
    "if __name__ == \"__main__\":\n",
    "    Strainpath = 'train/spam'\n",
    "    Htrainpath = 'train/ham'\n",
    "    Stestpath = 'test/spam'\n",
    "    Htestpath = 'test/ham'\n",
    "    stopwords = set(stopwords.words('english'))\n",
    "    \n",
    "    \n",
    "    trainSpamList, trainSpamDic = getWords(Strainpath, 1)\n",
    "    trainSpamListWithStopWords,trainSpamDicWithStopWords = getWords(Strainpath, 0) \n",
    "    \n",
    "    trainHamList, trainHamDic = getWords(Htrainpath, 1)\n",
    "    trainHamListWithStopWords,trainHamDicWithStopWords = getWords(Htrainpath, 0) \n",
    "    \n",
    "    trainList = trainSpamList + trainHamList\n",
    "    trainListWithStopwords = trainSpamListWithStopWords + trainHamListWithStopWords\n",
    "    \n",
    "\n",
    "    testSpamList, testspamDic = fileRead(Stestpath)\n",
    "    testHamList, testhamDic = fileRead(Htestpath)\n",
    "\n",
    "    testList = testSpamList + testHamList\n",
    "    \n",
    "    numofspam = len(trainspamDic)\n",
    "    numofham = len(trainhamDic)\n",
    "    \n",
    "    trainFreq = Counter(trainList)\n",
    "    testFreq = Counter(testList)\n",
    "\n",
    "    classes = [\"ham\", \"spam\"]\n",
    "    \n",
    "    \n",
    "                                                                     \n",
    "            \n",
    "                \n",
    "            \n",
    "                \n",
    "                \n",
    "    \n",
    "    \n",
    "    \n",
    "   \n",
    "    \n"
   ]
  },
  {
   "cell_type": "code",
   "execution_count": null,
   "metadata": {},
   "outputs": [],
   "source": [
    "def predict(row, weights):\n",
    "\tactivation = weights[0]\n",
    "\tfor i in range(len(row)-1):\n",
    "\t\tactivation += weights[i + 1] * row[i]\n",
    "\treturn 1.0 if activation >= 0.0 else 0.0"
   ]
  },
  {
   "cell_type": "code",
   "execution_count": 239,
   "metadata": {},
   "outputs": [
    {
     "ename": "NameError",
     "evalue": "name 'dataset' is not defined",
     "output_type": "error",
     "traceback": [
      "\u001b[1;31m---------------------------------------------------------------------------\u001b[0m",
      "\u001b[1;31mNameError\u001b[0m                                 Traceback (most recent call last)",
      "\u001b[1;32m<ipython-input-239-696e0fad9890>\u001b[0m in \u001b[0;36m<module>\u001b[1;34m\u001b[0m\n\u001b[0;32m      7\u001b[0m \u001b[1;33m\u001b[0m\u001b[0m\n\u001b[0;32m      8\u001b[0m \u001b[1;33m\u001b[0m\u001b[0m\n\u001b[1;32m----> 9\u001b[1;33m \u001b[1;32mfor\u001b[0m \u001b[0mrow\u001b[0m \u001b[1;32min\u001b[0m \u001b[0mdataset\u001b[0m\u001b[1;33m:\u001b[0m\u001b[1;33m\u001b[0m\u001b[1;33m\u001b[0m\u001b[0m\n\u001b[0m\u001b[0;32m     10\u001b[0m         \u001b[0mprediction\u001b[0m \u001b[1;33m=\u001b[0m \u001b[0mpredict\u001b[0m\u001b[1;33m(\u001b[0m\u001b[0mrow\u001b[0m\u001b[1;33m,\u001b[0m \u001b[0mweights\u001b[0m\u001b[1;33m)\u001b[0m\u001b[1;33m\u001b[0m\u001b[1;33m\u001b[0m\u001b[0m\n\u001b[0;32m     11\u001b[0m         \u001b[0mprint\u001b[0m\u001b[1;33m(\u001b[0m\u001b[1;34m\"Expected=%d, Predicted=%d\"\u001b[0m \u001b[1;33m%\u001b[0m \u001b[1;33m(\u001b[0m\u001b[0mrow\u001b[0m\u001b[1;33m[\u001b[0m\u001b[1;33m-\u001b[0m\u001b[1;36m1\u001b[0m\u001b[1;33m]\u001b[0m\u001b[1;33m,\u001b[0m \u001b[0mprediction\u001b[0m\u001b[1;33m)\u001b[0m\u001b[1;33m)\u001b[0m\u001b[1;33m\u001b[0m\u001b[1;33m\u001b[0m\u001b[0m\n",
      "\u001b[1;31mNameError\u001b[0m: name 'dataset' is not defined"
     ]
    }
   ],
   "source": [
    "\n",
    "# Make a prediction with weights\n",
    "def predict(row, weights):\n",
    "\tactivation = weights[0]\n",
    "\tfor i in range(len(row)-1):\n",
    "\t\tactivation += weights[i + 1] * row[i]\n",
    "\treturn 1.0 if activation >= 0.0 else 0.0\n",
    "\n",
    "\n",
    "for row in train_set:\n",
    "\tprediction = predict(row, weights)\n",
    "\tprint(\"Expected=%d, Predicted=%d\" % (row[-1], prediction))\n"
   ]
  }
 ],
 "metadata": {
  "kernelspec": {
   "display_name": "Python 3",
   "language": "python",
   "name": "python3"
  },
  "language_info": {
   "codemirror_mode": {
    "name": "ipython",
    "version": 3
   },
   "file_extension": ".py",
   "mimetype": "text/x-python",
   "name": "python",
   "nbconvert_exporter": "python",
   "pygments_lexer": "ipython3",
   "version": "3.7.3"
  }
 },
 "nbformat": 4,
 "nbformat_minor": 2
}
