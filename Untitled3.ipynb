{
 "cells": [
  {
   "cell_type": "code",
   "execution_count": 32,
   "metadata": {},
   "outputs": [],
   "source": [
    "import os\n",
    "import pandas as pd\n",
    "import io"
   ]
  },
  {
   "cell_type": "code",
   "execution_count": 2,
   "metadata": {},
   "outputs": [],
   "source": [
    "dirpath = 'D:\\Downloads\\train\\train\\spam\\\\'"
   ]
  },
  {
   "cell_type": "code",
   "execution_count": 3,
   "metadata": {},
   "outputs": [],
   "source": [
    "output = 'D:\\Downloads\\train\\train\\hey.csv'\n"
   ]
  },
  {
   "cell_type": "code",
   "execution_count": 5,
   "metadata": {},
   "outputs": [],
   "source": [
    "csvout = pd.DataFrame()"
   ]
  },
  {
   "cell_type": "code",
   "execution_count": 8,
   "metadata": {},
   "outputs": [],
   "source": [
    "def readFiles(path):\n",
    "    for root, dirnames, filenames in os.walk(path):\n",
    "        for filename in filenames:\n",
    "            path = os.path.join(root, filename)\n",
    "\n",
    "            inBody = False\n",
    "            lines = []\n",
    "            f = io.open(path, 'r', encoding='latin1')\n",
    "            for line in f:\n",
    "                if inBody:\n",
    "                    lines.append(line)\n",
    "                elif line == '\\n':\n",
    "                    inBody = True\n",
    "            f.close()\n",
    "            message = '\\n'.join(lines)\n",
    "            yield path, message\n"
   ]
  },
  {
   "cell_type": "code",
   "execution_count": 33,
   "metadata": {},
   "outputs": [],
   "source": [
    "def dataFrameFromDirectory(path, classification):\n",
    "    rows = []\n",
    "    index = []\n",
    "    for filename, message in readFiles(path):\n",
    "        rows.append({'message': message, 'class': classification})\n",
    "        index.append(filename)\n",
    "\n",
    "    return pd.DataFrame(rows, index=index)"
   ]
  },
  {
   "cell_type": "code",
   "execution_count": 38,
   "metadata": {},
   "outputs": [],
   "source": [
    "data = data.append(dataFrameFromDirectory('D:/Downloads/train/train/spam/', 'spam'),sort='True')"
   ]
  },
  {
   "cell_type": "code",
   "execution_count": 36,
   "metadata": {},
   "outputs": [],
   "source": [
    "data = pd.DataFrame({'message': [], 'class': []})"
   ]
  },
  {
   "cell_type": "code",
   "execution_count": 27,
   "metadata": {},
   "outputs": [],
   "source": [
    "data = data.append(dataFrameFromDirectory('D:/Downloads/train/train/ham', 'ham'))"
   ]
  },
  {
   "cell_type": "code",
   "execution_count": 40,
   "metadata": {},
   "outputs": [
    {
     "data": {
      "text/html": [
       "<div>\n",
       "<style scoped>\n",
       "    .dataframe tbody tr th:only-of-type {\n",
       "        vertical-align: middle;\n",
       "    }\n",
       "\n",
       "    .dataframe tbody tr th {\n",
       "        vertical-align: top;\n",
       "    }\n",
       "\n",
       "    .dataframe thead th {\n",
       "        text-align: right;\n",
       "    }\n",
       "</style>\n",
       "<table border=\"1\" class=\"dataframe\">\n",
       "  <thead>\n",
       "    <tr style=\"text-align: right;\">\n",
       "      <th></th>\n",
       "      <th>class</th>\n",
       "      <th>message</th>\n",
       "    </tr>\n",
       "  </thead>\n",
       "  <tbody>\n",
       "    <tr>\n",
       "      <th>D:/Downloads/train/train/spam/0100.2003-12-28.GP.spam.txt</th>\n",
       "      <td>spam</td>\n",
       "      <td></td>\n",
       "    </tr>\n",
       "    <tr>\n",
       "      <th>D:/Downloads/train/train/spam/0170.2004-01-09.GP.spam.txt</th>\n",
       "      <td>spam</td>\n",
       "      <td></td>\n",
       "    </tr>\n",
       "    <tr>\n",
       "      <th>D:/Downloads/train/train/spam/0176.2004-01-11.GP.spam.txt</th>\n",
       "      <td>spam</td>\n",
       "      <td></td>\n",
       "    </tr>\n",
       "    <tr>\n",
       "      <th>D:/Downloads/train/train/spam/0204.2004-01-13.GP.spam.txt</th>\n",
       "      <td>spam</td>\n",
       "      <td></td>\n",
       "    </tr>\n",
       "    <tr>\n",
       "      <th>D:/Downloads/train/train/spam/0250.2004-01-20.GP.spam.txt</th>\n",
       "      <td>spam</td>\n",
       "      <td></td>\n",
       "    </tr>\n",
       "    <tr>\n",
       "      <th>D:/Downloads/train/train/spam/0312.2004-01-26.GP.spam.txt</th>\n",
       "      <td>spam</td>\n",
       "      <td></td>\n",
       "    </tr>\n",
       "    <tr>\n",
       "      <th>D:/Downloads/train/train/spam/0387.2004-02-07.GP.spam.txt</th>\n",
       "      <td>spam</td>\n",
       "      <td></td>\n",
       "    </tr>\n",
       "    <tr>\n",
       "      <th>D:/Downloads/train/train/spam/0528.2004-02-21.GP.spam.txt</th>\n",
       "      <td>spam</td>\n",
       "      <td></td>\n",
       "    </tr>\n",
       "    <tr>\n",
       "      <th>D:/Downloads/train/train/spam/0533.2004-02-21.GP.spam.txt</th>\n",
       "      <td>spam</td>\n",
       "      <td></td>\n",
       "    </tr>\n",
       "    <tr>\n",
       "      <th>D:/Downloads/train/train/spam/0557.2004-02-23.GP.spam.txt</th>\n",
       "      <td>spam</td>\n",
       "      <td></td>\n",
       "    </tr>\n",
       "  </tbody>\n",
       "</table>\n",
       "</div>"
      ],
      "text/plain": [
       "                                                   class message\n",
       "D:/Downloads/train/train/spam/0100.2003-12-28.G...  spam        \n",
       "D:/Downloads/train/train/spam/0170.2004-01-09.G...  spam        \n",
       "D:/Downloads/train/train/spam/0176.2004-01-11.G...  spam        \n",
       "D:/Downloads/train/train/spam/0204.2004-01-13.G...  spam        \n",
       "D:/Downloads/train/train/spam/0250.2004-01-20.G...  spam        \n",
       "D:/Downloads/train/train/spam/0312.2004-01-26.G...  spam        \n",
       "D:/Downloads/train/train/spam/0387.2004-02-07.G...  spam        \n",
       "D:/Downloads/train/train/spam/0528.2004-02-21.G...  spam        \n",
       "D:/Downloads/train/train/spam/0533.2004-02-21.G...  spam        \n",
       "D:/Downloads/train/train/spam/0557.2004-02-23.G...  spam        "
      ]
     },
     "execution_count": 40,
     "metadata": {},
     "output_type": "execute_result"
    }
   ],
   "source": [
    "data.head(10)"
   ]
  }
 ],
 "metadata": {
  "kernelspec": {
   "display_name": "Python 3",
   "language": "python",
   "name": "python3"
  },
  "language_info": {
   "codemirror_mode": {
    "name": "ipython",
    "version": 3
   },
   "file_extension": ".py",
   "mimetype": "text/x-python",
   "name": "python",
   "nbconvert_exporter": "python",
   "pygments_lexer": "ipython3",
   "version": "3.6.5"
  }
 },
 "nbformat": 4,
 "nbformat_minor": 2
}
