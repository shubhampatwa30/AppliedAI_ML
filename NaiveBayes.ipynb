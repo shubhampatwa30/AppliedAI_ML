{
 "cells": [
  {
   "cell_type": "code",
   "execution_count": 320,
   "metadata": {},
   "outputs": [],
   "source": [
    "import os\n",
    "import re\n",
    "import io\n",
    "from math import log\n",
    "from math import e\n",
    "import sys\n",
    "from collections import Counter\n",
    "import nltk\n",
    "from nltk.corpus import stopwords\n"
   ]
  },
  {
   "cell_type": "code",
   "execution_count": 321,
   "metadata": {},
   "outputs": [],
   "source": [
    "#Read data set, extract each words in list for each file\n",
    "import re\n",
    "def readFile(path):\n",
    "    vocab = []\n",
    "    dictionary = {}\n",
    "    for file in os.listdir(path):\n",
    "        f = open(path+\"/\"+file,encoding = \"ISO-8859-1\")\n",
    "        text = f.read()\n",
    "        text = re.sub('[^a-zA-Z]', ' ', text)\n",
    "        words_list = text.strip().split()\n",
    "        dictionary[file] = words_list\n",
    "        vocab.extend(words_list)\n",
    "    return vocab, dictionary"
   ]
  },
  {
   "cell_type": "code",
   "execution_count": 322,
   "metadata": {},
   "outputs": [],
   "source": [
    "#Calculate proir probability and conditional probability, store them into dictionary\n",
    "def naiveBayestraining(countSpam, countHam, SpamFreq, HamFreq, SpamList, HamList, List):\n",
    "    \n",
    "    addOne = 1\n",
    "    condiprobSpam = {}\n",
    "    condiprobHam = {}\n",
    "\n",
    "    for word in List:\n",
    "        occurrence = 0\n",
    "        if word in SpamFreq:\n",
    "            occurrence = SpamFreq[word]\n",
    "        condiprob1 = 1.0 * (occurrence + addOne) / (len(SpamList) + len(List))\n",
    "        condiprobSpam[word] = condiprob1\n",
    "\n",
    "    for word in List:\n",
    "        occurrence = 0\n",
    "        if word in HamFreq:\n",
    "            occurrence = HamFreq[word]\n",
    "        condiprob2 = 1.0 * (occurrence + addOne) / (len(HamList) + len(List))\n",
    "        condiprobHam[word] = condiprob2\n",
    "    spamPrior = 1.0 * countSpam / (countSpam + countHam)\n",
    "    hamPrior = 1.0 * countHam / (countSpam + countHam)\n",
    "    return spamPrior, hamPrior, condiprobSpam, condiprobHam"
   ]
  },
  {
   "cell_type": "code",
   "execution_count": 323,
   "metadata": {},
   "outputs": [],
   "source": [
    "#Classify the type for test data set and calculate the accurancy\n",
    "def naiveBayes(spamPrior, hamPrior, condiprobSpam, condiprobHam, spamDic, hamDic, List):\n",
    "    dictionary = [spamDic, hamDic]\n",
    "    total = len(spamDic) + len(hamDic)\n",
    "    correct = 0\n",
    "    for i in range(len(dictionary)):\n",
    "        for fileName in dictionary[i]:\n",
    "            score1 = log(spamPrior)\n",
    "            score2 = log(hamPrior)\n",
    "            for word in dictionary[i][fileName]:\n",
    "                if word in List:\n",
    "                    score1 += log(condiprobSpam[word])\n",
    "                    score2 += log(condiprobHam[word])\n",
    "            if score1 >= score2 and i == 0:\n",
    "                correct +=1\n",
    "            elif score1 <= score2 and i == 1:\n",
    "                correct +=1\n",
    "    return 100 * correct/total"
   ]
  },
  {
   "cell_type": "code",
   "execution_count": 324,
   "metadata": {},
   "outputs": [
    {
     "name": "stdout",
     "output_type": "stream",
     "text": [
      "94.76987447698745\n"
     ]
    }
   ],
   "source": [
    "if __name__ == \"__main__\":\n",
    "    trainSpamPath = r'C:/Users/PranavD/Desktop/Semester2/Machine Learning/Assignment 2/train/spam'\n",
    "    trainHamPath = r'C:/Users/PranavD/Desktop/Semester2/Machine Learning/Assignment 2/train/ham'\n",
    "    testSpamPath = r'C:/Users/PranavD/Desktop/Semester2/Machine Learning/Assignment 2/test/spam'\n",
    "    testHamPath = r'C:/Users/PranavD/Desktop/Semester2/Machine Learning/Assignment 2/test/ham'\n",
    "    stopwords = set(stopwords.words('english'))\n",
    "    willRemoveStopWords = 'no'\n",
    "\n",
    "    if willRemoveStopWords == 'yes':\n",
    "        trainspamList = []\n",
    "        trainspamDic = {}\n",
    "        for file in os.listdir(trainSpamPath):\n",
    "            #print(\"entered 1 loop\")\n",
    "            f = open(trainSpamPath+\"/\"+file,encoding = \"ISO-8859-1\")  \n",
    "            text = f.read()\n",
    "            text = re.sub('[^a-zA-Z]', ' ', text)\n",
    "            words_list = text.strip().split()\n",
    "            words_new = []\n",
    "        for word in words_list:\n",
    "            if word not in stopwords:\n",
    "                words_new.append(word)\n",
    "        trainspamDic[file] = words_new\n",
    "        trainspamList.extend(words_new)\n",
    "        \n",
    "        \n",
    "        trainhamList = []\n",
    "        trainhamDic = {}\n",
    "        for file in os.listdir(trainHamPath):\n",
    "            #print(\"Entered 2 loop\")\n",
    "            f = open(trainHamPath+\"/\"+file,encoding = \"ISO-8859-1\") \n",
    "            text = f.read()\n",
    "            text = re.sub('[^a-zA-Z]', ' ', text)\n",
    "            words_list = text.strip().split()\n",
    "            words_new = []\n",
    "        for word in words_list:\n",
    "            if word not in stopwords:\n",
    "                words_new.append(word)\n",
    "        trainhamDic[file] = words_new\n",
    "        trainhamList.extend(words_new)\n",
    "           \n",
    "        \n",
    "    else:\n",
    "        trainspamList, trainspamDic = readFile(trainSpamPath)\n",
    "        trainhamList, trainhamDic = readFile(trainHamPath)\n",
    "\n",
    "    testSpamList, testspamDic = readFile(testSpamPath)\n",
    "    testHamList, testhamDic = readFile(testHamPath)\n",
    "\n",
    "    numSpam = len(trainspamDic)\n",
    "    numHam = len(trainhamDic)\n",
    "\n",
    "    spamFreq = Counter(trainspamList)\n",
    "    hamFreq = Counter(trainhamList)\n",
    "    List = list(set(trainspamList)|set(trainhamList))\n",
    "    spamPrior, hamPrior, condiprob1, condiprob2 = naiveBayestraining(numSpam, numHam,spamFreq, hamFreq, trainspamList, trainhamList,List)\n",
    "    Accuracy =naiveBayes(spamPrior, hamPrior, condiprob1, condiprob2, testspamDic, testhamDic, List)\n",
    "    print (Accuracy)"
   ]
  }
 ],
 "metadata": {
  "kernelspec": {
   "display_name": "Python 3",
   "language": "python",
   "name": "python3"
  },
  "language_info": {
   "codemirror_mode": {
    "name": "ipython",
    "version": 3
   },
   "file_extension": ".py",
   "mimetype": "text/x-python",
   "name": "python",
   "nbconvert_exporter": "python",
   "pygments_lexer": "ipython3",
   "version": "3.6.5"
  }
 },
 "nbformat": 4,
 "nbformat_minor": 2
}
